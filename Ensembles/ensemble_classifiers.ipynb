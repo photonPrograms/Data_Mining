{
 "cells": [
  {
   "cell_type": "markdown",
   "metadata": {},
   "source": [
    "# Ensemble\n",
    "\n",
    "\n",
    "Ensemble learning helps improve machine learning results by combining several models. This approach allows the production of better predictive performance compared to a single model.\n",
    "\n",
    "Most ensemble methods use a single base learning algorithm i.e. learners of the same type, leading to homogeneous ensembles.\n",
    "\n",
    "There are also some methods that use heterogeneous learners, i.e. learners of different types, leading to heterogeneous ensembles. In order for ensemble methods to be more accurate than any of its individual members, the base learners have to be as accurate as possible and as diverse as possible.\n",
    "\n"
   ]
  },
  {
   "cell_type": "markdown",
   "metadata": {},
   "source": [
    "### Bagging\n",
    "\n",
    "Bagging stands for bootstrap aggregation. One way to reduce the variance of an estimate is to average together multiple estimates. For example, we can train M different trees on different subsets of the data (chosen randomly with replacement).\n",
    "\n",
    "Bagging uses bootstrap sampling to obtain the data subsets for training the base learners. For aggregating the outputs of base learners, bagging uses voting for classification and averaging for regression.\n",
    "\n",
    "### Boosting\n",
    "\n",
    "Boosting is a general ensemble method that creates a strong classifier from a number of weak classifiers.\n",
    "\n",
    "This is done by building a model from the training data, then creating a second model that attempts to correct the errors from the first model. Models are added until the training set is predicted perfectly or a maximum number of models are added.\n",
    "\n",
    "AdaBoost is one of the most successful boosting algorithms developed for binary classification."
   ]
  },
  {
   "cell_type": "markdown",
   "metadata": {},
   "source": [
    "### Libraries useful in Ensemble are listed below"
   ]
  },
  {
   "cell_type": "raw",
   "metadata": {},
   "source": [
    "To load dataset:    import pandas as pd\n",
    "Preprocessing:      from sklearn import preprocessing\n",
    "Decision Tree:      from sklearn.tree import DecisionTreeClassifier \n",
    "K-NN Classifier:    from sklearn.neighbors import KNeighborsClassifier\n",
    "Naive Bayes:        from sklearn.naive_bayes import GaussianNB\n",
    "Train & Test Split: from sklearn.model_selection import train_test_split\n",
    "K-Fold:             from sklearn.model_selection import cross_val_score\n",
    "Bagging Algorithms: from sklearn.ensemble import BaggingClassifier\n",
    "Voting Classifier:  from sklearn.ensemble import VotingClassifier\n",
    "\n",
    "For Prediction and Evaluation\n",
    "\n",
    "from sklearn.metrics import classification_report,confusion_matrix\n",
    "from sklearn.metrics import accuracy_score\n"
   ]
  },
  {
   "cell_type": "markdown",
   "metadata": {},
   "source": [
    "### Import all the libraries required"
   ]
  },
  {
   "cell_type": "code",
   "execution_count": 2,
   "metadata": {},
   "outputs": [],
   "source": [
    "import pandas as pd\n",
    "from sklearn import preprocessing\n",
    "from sklearn.tree import DecisionTreeClassifier \n",
    "from sklearn.neighbors import KNeighborsClassifier\n",
    "from sklearn.naive_bayes import GaussianNB\n",
    "from sklearn.model_selection import train_test_split\n",
    "from sklearn.model_selection import cross_val_score\n",
    "from sklearn.metrics import classification_report,confusion_matrix\n",
    "from sklearn.metrics import accuracy_score"
   ]
  },
  {
   "cell_type": "markdown",
   "metadata": {},
   "source": [
    "### Load the \"letter-recognition\" data"
   ]
  },
  {
   "cell_type": "code",
   "execution_count": 3,
   "metadata": {},
   "outputs": [
    {
     "data": {
      "text/html": [
       "<div>\n",
       "<style scoped>\n",
       "    .dataframe tbody tr th:only-of-type {\n",
       "        vertical-align: middle;\n",
       "    }\n",
       "\n",
       "    .dataframe tbody tr th {\n",
       "        vertical-align: top;\n",
       "    }\n",
       "\n",
       "    .dataframe thead th {\n",
       "        text-align: right;\n",
       "    }\n",
       "</style>\n",
       "<table border=\"1\" class=\"dataframe\">\n",
       "  <thead>\n",
       "    <tr style=\"text-align: right;\">\n",
       "      <th></th>\n",
       "      <th>0</th>\n",
       "      <th>1</th>\n",
       "      <th>2</th>\n",
       "      <th>3</th>\n",
       "      <th>4</th>\n",
       "      <th>5</th>\n",
       "      <th>6</th>\n",
       "      <th>7</th>\n",
       "      <th>8</th>\n",
       "      <th>9</th>\n",
       "      <th>10</th>\n",
       "      <th>11</th>\n",
       "      <th>12</th>\n",
       "      <th>13</th>\n",
       "      <th>14</th>\n",
       "      <th>15</th>\n",
       "      <th>16</th>\n",
       "    </tr>\n",
       "  </thead>\n",
       "  <tbody>\n",
       "    <tr>\n",
       "      <th>0</th>\n",
       "      <td>T</td>\n",
       "      <td>2</td>\n",
       "      <td>8</td>\n",
       "      <td>3</td>\n",
       "      <td>5</td>\n",
       "      <td>1</td>\n",
       "      <td>8</td>\n",
       "      <td>13</td>\n",
       "      <td>0</td>\n",
       "      <td>6</td>\n",
       "      <td>6</td>\n",
       "      <td>10</td>\n",
       "      <td>8</td>\n",
       "      <td>0</td>\n",
       "      <td>8</td>\n",
       "      <td>0</td>\n",
       "      <td>8</td>\n",
       "    </tr>\n",
       "    <tr>\n",
       "      <th>1</th>\n",
       "      <td>I</td>\n",
       "      <td>5</td>\n",
       "      <td>12</td>\n",
       "      <td>3</td>\n",
       "      <td>7</td>\n",
       "      <td>2</td>\n",
       "      <td>10</td>\n",
       "      <td>5</td>\n",
       "      <td>5</td>\n",
       "      <td>4</td>\n",
       "      <td>13</td>\n",
       "      <td>3</td>\n",
       "      <td>9</td>\n",
       "      <td>2</td>\n",
       "      <td>8</td>\n",
       "      <td>4</td>\n",
       "      <td>10</td>\n",
       "    </tr>\n",
       "    <tr>\n",
       "      <th>2</th>\n",
       "      <td>D</td>\n",
       "      <td>4</td>\n",
       "      <td>11</td>\n",
       "      <td>6</td>\n",
       "      <td>8</td>\n",
       "      <td>6</td>\n",
       "      <td>10</td>\n",
       "      <td>6</td>\n",
       "      <td>2</td>\n",
       "      <td>6</td>\n",
       "      <td>10</td>\n",
       "      <td>3</td>\n",
       "      <td>7</td>\n",
       "      <td>3</td>\n",
       "      <td>7</td>\n",
       "      <td>3</td>\n",
       "      <td>9</td>\n",
       "    </tr>\n",
       "    <tr>\n",
       "      <th>3</th>\n",
       "      <td>N</td>\n",
       "      <td>7</td>\n",
       "      <td>11</td>\n",
       "      <td>6</td>\n",
       "      <td>6</td>\n",
       "      <td>3</td>\n",
       "      <td>5</td>\n",
       "      <td>9</td>\n",
       "      <td>4</td>\n",
       "      <td>6</td>\n",
       "      <td>4</td>\n",
       "      <td>4</td>\n",
       "      <td>10</td>\n",
       "      <td>6</td>\n",
       "      <td>10</td>\n",
       "      <td>2</td>\n",
       "      <td>8</td>\n",
       "    </tr>\n",
       "    <tr>\n",
       "      <th>4</th>\n",
       "      <td>G</td>\n",
       "      <td>2</td>\n",
       "      <td>1</td>\n",
       "      <td>3</td>\n",
       "      <td>1</td>\n",
       "      <td>1</td>\n",
       "      <td>8</td>\n",
       "      <td>6</td>\n",
       "      <td>6</td>\n",
       "      <td>6</td>\n",
       "      <td>6</td>\n",
       "      <td>5</td>\n",
       "      <td>9</td>\n",
       "      <td>1</td>\n",
       "      <td>7</td>\n",
       "      <td>5</td>\n",
       "      <td>10</td>\n",
       "    </tr>\n",
       "  </tbody>\n",
       "</table>\n",
       "</div>"
      ],
      "text/plain": [
       "  0   1   2   3   4   5   6   7   8   9   10  11  12  13  14  15  16\n",
       "0  T   2   8   3   5   1   8  13   0   6   6  10   8   0   8   0   8\n",
       "1  I   5  12   3   7   2  10   5   5   4  13   3   9   2   8   4  10\n",
       "2  D   4  11   6   8   6  10   6   2   6  10   3   7   3   7   3   9\n",
       "3  N   7  11   6   6   3   5   9   4   6   4   4  10   6  10   2   8\n",
       "4  G   2   1   3   1   1   8   6   6   6   6   5   9   1   7   5  10"
      ]
     },
     "execution_count": 3,
     "metadata": {},
     "output_type": "execute_result"
    }
   ],
   "source": [
    "# import dataset\n",
    "df = pd.read_csv(\"letter-recognition.data.txt\", header = None)\n",
    "df.head()"
   ]
  },
  {
   "cell_type": "markdown",
   "metadata": {},
   "source": [
    "### Split the dataset into training and testing parts (70-30 ratio with a random state value 30)"
   ]
  },
  {
   "cell_type": "code",
   "execution_count": 4,
   "metadata": {},
   "outputs": [
    {
     "data": {
      "text/html": [
       "<div>\n",
       "<style scoped>\n",
       "    .dataframe tbody tr th:only-of-type {\n",
       "        vertical-align: middle;\n",
       "    }\n",
       "\n",
       "    .dataframe tbody tr th {\n",
       "        vertical-align: top;\n",
       "    }\n",
       "\n",
       "    .dataframe thead th {\n",
       "        text-align: right;\n",
       "    }\n",
       "</style>\n",
       "<table border=\"1\" class=\"dataframe\">\n",
       "  <thead>\n",
       "    <tr style=\"text-align: right;\">\n",
       "      <th></th>\n",
       "      <th>1</th>\n",
       "      <th>2</th>\n",
       "      <th>3</th>\n",
       "      <th>4</th>\n",
       "      <th>5</th>\n",
       "      <th>6</th>\n",
       "      <th>7</th>\n",
       "      <th>8</th>\n",
       "      <th>9</th>\n",
       "      <th>10</th>\n",
       "      <th>11</th>\n",
       "      <th>12</th>\n",
       "      <th>13</th>\n",
       "      <th>14</th>\n",
       "      <th>15</th>\n",
       "      <th>16</th>\n",
       "    </tr>\n",
       "  </thead>\n",
       "  <tbody>\n",
       "    <tr>\n",
       "      <th>0</th>\n",
       "      <td>2</td>\n",
       "      <td>8</td>\n",
       "      <td>3</td>\n",
       "      <td>5</td>\n",
       "      <td>1</td>\n",
       "      <td>8</td>\n",
       "      <td>13</td>\n",
       "      <td>0</td>\n",
       "      <td>6</td>\n",
       "      <td>6</td>\n",
       "      <td>10</td>\n",
       "      <td>8</td>\n",
       "      <td>0</td>\n",
       "      <td>8</td>\n",
       "      <td>0</td>\n",
       "      <td>8</td>\n",
       "    </tr>\n",
       "    <tr>\n",
       "      <th>1</th>\n",
       "      <td>5</td>\n",
       "      <td>12</td>\n",
       "      <td>3</td>\n",
       "      <td>7</td>\n",
       "      <td>2</td>\n",
       "      <td>10</td>\n",
       "      <td>5</td>\n",
       "      <td>5</td>\n",
       "      <td>4</td>\n",
       "      <td>13</td>\n",
       "      <td>3</td>\n",
       "      <td>9</td>\n",
       "      <td>2</td>\n",
       "      <td>8</td>\n",
       "      <td>4</td>\n",
       "      <td>10</td>\n",
       "    </tr>\n",
       "    <tr>\n",
       "      <th>2</th>\n",
       "      <td>4</td>\n",
       "      <td>11</td>\n",
       "      <td>6</td>\n",
       "      <td>8</td>\n",
       "      <td>6</td>\n",
       "      <td>10</td>\n",
       "      <td>6</td>\n",
       "      <td>2</td>\n",
       "      <td>6</td>\n",
       "      <td>10</td>\n",
       "      <td>3</td>\n",
       "      <td>7</td>\n",
       "      <td>3</td>\n",
       "      <td>7</td>\n",
       "      <td>3</td>\n",
       "      <td>9</td>\n",
       "    </tr>\n",
       "    <tr>\n",
       "      <th>3</th>\n",
       "      <td>7</td>\n",
       "      <td>11</td>\n",
       "      <td>6</td>\n",
       "      <td>6</td>\n",
       "      <td>3</td>\n",
       "      <td>5</td>\n",
       "      <td>9</td>\n",
       "      <td>4</td>\n",
       "      <td>6</td>\n",
       "      <td>4</td>\n",
       "      <td>4</td>\n",
       "      <td>10</td>\n",
       "      <td>6</td>\n",
       "      <td>10</td>\n",
       "      <td>2</td>\n",
       "      <td>8</td>\n",
       "    </tr>\n",
       "    <tr>\n",
       "      <th>4</th>\n",
       "      <td>2</td>\n",
       "      <td>1</td>\n",
       "      <td>3</td>\n",
       "      <td>1</td>\n",
       "      <td>1</td>\n",
       "      <td>8</td>\n",
       "      <td>6</td>\n",
       "      <td>6</td>\n",
       "      <td>6</td>\n",
       "      <td>6</td>\n",
       "      <td>5</td>\n",
       "      <td>9</td>\n",
       "      <td>1</td>\n",
       "      <td>7</td>\n",
       "      <td>5</td>\n",
       "      <td>10</td>\n",
       "    </tr>\n",
       "  </tbody>\n",
       "</table>\n",
       "</div>"
      ],
      "text/plain": [
       "   1   2   3   4   5   6   7   8   9   10  11  12  13  14  15  16\n",
       "0   2   8   3   5   1   8  13   0   6   6  10   8   0   8   0   8\n",
       "1   5  12   3   7   2  10   5   5   4  13   3   9   2   8   4  10\n",
       "2   4  11   6   8   6  10   6   2   6  10   3   7   3   7   3   9\n",
       "3   7  11   6   6   3   5   9   4   6   4   4  10   6  10   2   8\n",
       "4   2   1   3   1   1   8   6   6   6   6   5   9   1   7   5  10"
      ]
     },
     "execution_count": 4,
     "metadata": {},
     "output_type": "execute_result"
    }
   ],
   "source": [
    "# Select the independent variables and the target attribute\n",
    "X = df[df.columns[1:]] # Selecting the independent variables\n",
    "Y = df[df.columns[0]] # selecting only the target lableled column\n",
    "X.head()"
   ]
  },
  {
   "cell_type": "code",
   "execution_count": 5,
   "metadata": {},
   "outputs": [],
   "source": [
    "# Divide the dataset into training and testing partition\n",
    "X_train, X_test, Y_train, Y_test = train_test_split(X, Y, test_size=0.30, random_state = 30)"
   ]
  },
  {
   "cell_type": "markdown",
   "metadata": {},
   "source": [
    "### Q1. Ensemble Method by manipulation of Dataset (Bagged Decision Trees)\n",
    "\n",
    "Bagging performs best with algorithms that have high variance. A popular example are decision trees, often constructed without pruning.\n",
    "\n",
    "We will create decision tree classifiers with and without bagging ensemble method and compare their performance."
   ]
  },
  {
   "cell_type": "raw",
   "metadata": {},
   "source": [
    "1. Implement the Decision Tree classifier\n",
    "2. Implement Bagging Classifier using base classifiers of the same type i.e. Decision tree (no. of classifiers    = 5)\n",
    "3. Train and view scores using k-fold cross validation with k=5\n",
    "4. Test on the testing part of the dataset\n"
   ]
  },
  {
   "cell_type": "code",
   "execution_count": 6,
   "metadata": {},
   "outputs": [],
   "source": [
    "# Implement the decision tree classifier using entropy and random state value as 30\n",
    "dtree_entropy = DecisionTreeClassifier(criterion='entropy', random_state = 30) "
   ]
  },
  {
   "cell_type": "code",
   "execution_count": 7,
   "metadata": {},
   "outputs": [
    {
     "name": "stdout",
     "output_type": "stream",
     "text": [
      "scores:  [0.865      0.86964286 0.85214286 0.86       0.87      ]\n",
      "mean score:  0.8633571428571427\n"
     ]
    }
   ],
   "source": [
    "# Use k-fold cross validation with k=5\n",
    "dtree_entropy = dtree_entropy.fit(X_train,Y_train)\n",
    "scores = cross_val_score(dtree_entropy, X_train, Y_train, cv=5, scoring='accuracy')\n",
    "print('scores: ', scores)\n",
    "print('mean score: ', scores.mean())"
   ]
  },
  {
   "cell_type": "markdown",
   "metadata": {},
   "source": [
    "### Prediction and Evaluation"
   ]
  },
  {
   "cell_type": "code",
   "execution_count": 8,
   "metadata": {},
   "outputs": [
    {
     "name": "stdout",
     "output_type": "stream",
     "text": [
      "['A' 'L' 'O' ... 'N' 'T' 'C']\n"
     ]
    }
   ],
   "source": [
    "# Predict results on the testing part\n",
    "predictions = dtree_entropy.predict(X_test)\n",
    "print(predictions)"
   ]
  },
  {
   "cell_type": "code",
   "execution_count": 1,
   "metadata": {},
   "outputs": [],
   "source": [
    "# Calculate and print confusion matrix and other performance measures \n",
    "#print(classification_report(Y_test,predictions))\n",
    "#print(\"Confusion Matrix\")\n",
    "#print(confusion_matrix(Y_test,predictions))\n",
    "#print(\"\\n Accuracy\")\n",
    "#print(accuracy_score(Y_test,predictions))"
   ]
  },
  {
   "cell_type": "markdown",
   "metadata": {},
   "source": [
    "### Comparison with Bagged Decision Tree"
   ]
  },
  {
   "cell_type": "code",
   "execution_count": 10,
   "metadata": {},
   "outputs": [],
   "source": [
    "# Create a model using bagging using 5 decision tree classifiers\n",
    "from sklearn.ensemble import BaggingClassifier\n",
    "\n",
    "seed = 30\n",
    "dtree = DecisionTreeClassifier(criterion='entropy', random_state = 30) \n",
    "num_trees = 5\n",
    "dtree_bagging = BaggingClassifier(base_estimator=dtree, n_estimators=num_trees, random_state=seed)"
   ]
  },
  {
   "cell_type": "code",
   "execution_count": 11,
   "metadata": {},
   "outputs": [
    {
     "name": "stdout",
     "output_type": "stream",
     "text": [
      "scores:  [0.88714286 0.89035714 0.89       0.88285714 0.88714286]\n",
      "mean score:  0.8875\n"
     ]
    }
   ],
   "source": [
    "# Use k-fold cross validation with k=5\n",
    "dtree_bagging = dtree_bagging.fit(X_train,Y_train)\n",
    "scores = cross_val_score(dtree_bagging, X_train, Y_train, cv=5, scoring='accuracy')\n",
    "print('scores: ', scores)\n",
    "print('mean score: ', scores.mean())"
   ]
  },
  {
   "cell_type": "markdown",
   "metadata": {},
   "source": [
    "### Prediction and Evaluation"
   ]
  },
  {
   "cell_type": "code",
   "execution_count": 12,
   "metadata": {},
   "outputs": [
    {
     "name": "stdout",
     "output_type": "stream",
     "text": [
      "['A' 'L' 'O' ... 'N' 'T' 'C']\n"
     ]
    }
   ],
   "source": [
    "# Predict results on the testing part\n",
    "predictions = dtree_bagging.predict(X_test)\n",
    "print(predictions)"
   ]
  },
  {
   "cell_type": "code",
   "execution_count": 2,
   "metadata": {},
   "outputs": [],
   "source": [
    "# Calculate and print confusion matrix and other performance measures \n",
    "#print(classification_report(Y_test,predictions))\n",
    "#print(\"Confusion Matrix\")\n",
    "#print(confusion_matrix(Y_test,predictions))\n",
    "#print(\"\\n Accuracy\")\n",
    "#print(accuracy_score(Y_test,predictions))"
   ]
  },
  {
   "cell_type": "markdown",
   "metadata": {},
   "source": [
    "### Q2. Ensemble Method by manipulation of Classifiers (using Voting Classifier)\n",
    "\n",
    "The VotingClassifier takes in a list of different estimators as arguments and a voting method. The **hard** voting method uses the predicted labels and a majority rules system, while the **soft** voting method predicts a label based on the argmax/largest predicted value of the sum of the predicted probabilities.\n",
    "\n",
    "After we provide the desired classifiers, we need to fit the resulting ensemble classifier object. We can then get predictions and use accuracy metrics."
   ]
  },
  {
   "cell_type": "raw",
   "metadata": {},
   "source": [
    "1. Implement different base classifiers. Classifiers to be used are: Decision tree, 3-NN with euclidean \n",
    "   distance, 5-NN with euclidean distance, 5-NN with manhattan distance and \n",
    "   Naive Bayes\n",
    "2. Create an ensemble of the classifiers using Voting Classifier with hard voting method\n",
    "3. Test on the testing part of the dataset\n"
   ]
  },
  {
   "cell_type": "code",
   "execution_count": 14,
   "metadata": {},
   "outputs": [],
   "source": [
    "#Import required library\n",
    "from sklearn.ensemble import VotingClassifier"
   ]
  },
  {
   "cell_type": "code",
   "execution_count": 15,
   "metadata": {},
   "outputs": [],
   "source": [
    "# Implement the different classifiers\n",
    "c1 = DecisionTreeClassifier(criterion='entropy', random_state = 30) # decision tree\n",
    "c2 = KNeighborsClassifier(n_neighbors=3, metric='euclidean') # 3NN\n",
    "c3 = KNeighborsClassifier(n_neighbors=5, metric='euclidean') # 5NN euclidean\n",
    "c4 = KNeighborsClassifier(n_neighbors=5, metric='manhattan') # 5NN manhattan\n",
    "c5 = GaussianNB() # gaussian Naive Bayes"
   ]
  },
  {
   "cell_type": "code",
   "execution_count": 16,
   "metadata": {},
   "outputs": [],
   "source": [
    "# Build Voting Classifier using above estimators and hard voting method\n",
    "# Function to be used: VotingClassifier(estimators,voting)\n",
    "# Estimators represent the base classifiers used taken as ('base classifier name', variable_name)\n",
    "estimator = [(\"Decision_Tree\", c1),\n",
    "             (\"3NN_Euclidean\", c2),\n",
    "             (\"5NN_Euclidean\", c3),\n",
    "             (\"5NN_Manhattan\", c4),\n",
    "             (\"Naive_Bayes\", c5)\n",
    "            ]\n",
    "vote_hard = VotingClassifier(estimators = estimator, voting ='hard')"
   ]
  },
  {
   "cell_type": "code",
   "execution_count": 17,
   "metadata": {},
   "outputs": [
    {
     "name": "stdout",
     "output_type": "stream",
     "text": [
      "scores:  [0.94392857 0.9425     0.9425     0.945      0.94428571]\n",
      "mean score:  0.9436428571428571\n"
     ]
    }
   ],
   "source": [
    "# Fit the voting classifier model and print scores using k-fold cross validation with k=5\n",
    "vote_hard = vote_hard.fit(X_train,Y_train)\n",
    "scores = cross_val_score(vote_hard, X_train, Y_train, cv=5, scoring='accuracy')\n",
    "print('scores: ', scores)\n",
    "print('mean score: ', scores.mean())"
   ]
  },
  {
   "cell_type": "markdown",
   "metadata": {},
   "source": [
    "### Prediction and Evaluation"
   ]
  },
  {
   "cell_type": "code",
   "execution_count": 18,
   "metadata": {},
   "outputs": [
    {
     "name": "stdout",
     "output_type": "stream",
     "text": [
      "['A' 'L' 'O' ... 'N' 'T' 'C']\n"
     ]
    }
   ],
   "source": [
    "# Predict results on the testing part\n",
    "predictions = vote_hard.predict(X_test)\n",
    "print(predictions)"
   ]
  },
  {
   "cell_type": "code",
   "execution_count": 3,
   "metadata": {},
   "outputs": [],
   "source": [
    "# Calculate and print confusion matrix and other performance measures \n",
    "#print(classification_report(Y_test,predictions))\n",
    "#print(\"Confusion Matrix\")\n",
    "#print(confusion_matrix(Y_test,predictions))\n",
    "#print(\"\\n Accuracy\")\n",
    "#print(accuracy_score(Y_test,predictions))"
   ]
  },
  {
   "cell_type": "markdown",
   "metadata": {},
   "source": [
    "### Q3. Manipulating the features"
   ]
  },
  {
   "cell_type": "raw",
   "metadata": {},
   "source": [
    "1. Generate five feature sets using random vector (including 10 features each)\n",
    "2. Apply Decision tree with same hyperparameters on these five different feature \n",
    "   sets\n",
    "3. Test on the testing part of the dataset\n",
    "(Note: The ensemble classifier would be evaluated on the entire dataset)"
   ]
  },
  {
   "cell_type": "code",
   "execution_count": 28,
   "metadata": {},
   "outputs": [],
   "source": [
    "# Generate five random vectors\n",
    "X1 = X.sample(10, axis = 1)\n",
    "X2 = X.sample(10, axis = 1)\n",
    "X3 = X.sample(10, axis = 1)\n",
    "X4 = X.sample(10, axis = 1)\n",
    "X5 = X.sample(10, axis = 1)"
   ]
  },
  {
   "cell_type": "code",
   "execution_count": 29,
   "metadata": {},
   "outputs": [],
   "source": [
    "# Model 1\n",
    "# Select the independent variables\n",
    "# select only the target lableled column\n",
    "# Train the model\n",
    "X_train1, X_test1, Y_train1, Y_test1 = train_test_split(X1, Y, test_size=0.30, random_state = 30)\n",
    "dtree1 = DecisionTreeClassifier(criterion='entropy', random_state = 30)\n",
    "dtree1 = dtree1.fit(X_train1,Y_train1)"
   ]
  },
  {
   "cell_type": "code",
   "execution_count": 30,
   "metadata": {},
   "outputs": [],
   "source": [
    "# Model 2\n",
    "# Select the independent variables \n",
    "# select only the target lableled column\n",
    "# Train the model\n",
    "X_train2, X_test2, Y_train2, Y_test2 = train_test_split(X2, Y, test_size=0.30, random_state = 30)\n",
    "dtree2 = DecisionTreeClassifier(criterion='entropy', random_state = 30)\n",
    "dtree2 = dtree2.fit(X_train2,Y_train2)"
   ]
  },
  {
   "cell_type": "code",
   "execution_count": 31,
   "metadata": {},
   "outputs": [],
   "source": [
    "# Model 3\n",
    "# Select the independent variables \n",
    "# select only the target lableled column\n",
    "# Train the model\n",
    "X_train3, X_test3, Y_train3, Y_test3 = train_test_split(X3, Y, test_size=0.30, random_state = 30)\n",
    "dtree3 = DecisionTreeClassifier(criterion='entropy', random_state = 30)\n",
    "dtree3 = dtree3.fit(X_train3,Y_train3)"
   ]
  },
  {
   "cell_type": "code",
   "execution_count": 32,
   "metadata": {},
   "outputs": [],
   "source": [
    "# Model 4\n",
    "# Select the independent variables \n",
    "# select only the target lableled column\n",
    "# Train the model\n",
    "X_train4, X_test4, Y_train4, Y_test4 = train_test_split(X4, Y, test_size=0.30, random_state = 30)\n",
    "dtree4 = DecisionTreeClassifier(criterion='entropy', random_state = 30)\n",
    "dtree4 = dtree4.fit(X_train4,Y_train4)"
   ]
  },
  {
   "cell_type": "code",
   "execution_count": 33,
   "metadata": {},
   "outputs": [],
   "source": [
    "# Model 5\n",
    "# Select the independent variables \n",
    "# select only the target lableled column\n",
    "# Train the model\n",
    "X_train5, X_test5, Y_train5, Y_test5 = train_test_split(X5, Y, test_size=0.30, random_state = 30)\n",
    "dtree5 = DecisionTreeClassifier(criterion='entropy', random_state = 30)\n",
    "dtree5 = dtree5.fit(X_train5,Y_train5)"
   ]
  },
  {
   "cell_type": "code",
   "execution_count": 34,
   "metadata": {},
   "outputs": [],
   "source": [
    "# Apply Voting Classifier\n",
    "import numpy as np\n",
    "from scipy import stats\n",
    "predictions = np.vstack((dtree1.predict(X_test1), dtree2.predict(X_test2),\n",
    "                        dtree3.predict(X_test3), dtree4.predict(X_test4), dtree5.predict(X_test5)))\n",
    "predictions = stats.mode(predictions)[0].flatten()"
   ]
  },
  {
   "cell_type": "code",
   "execution_count": 5,
   "metadata": {},
   "outputs": [],
   "source": [
    "# Calculate and print confusion matrix and other performance measures \n",
    "#print(classification_report(Y_test1,predictions)) # Y_test same as Y_test1\n",
    "#print(\"Confusion Matrix\")\n",
    "#print(confusion_matrix(Y_test1,predictions))\n",
    "#print(\"\\n Accuracy\")\n",
    "#print(accuracy_score(Y_test1,predictions))"
   ]
  },
  {
   "cell_type": "markdown",
   "metadata": {},
   "source": [
    "### Q4. Manipulating the classes"
   ]
  },
  {
   "cell_type": "raw",
   "metadata": {},
   "source": [
    "1. Convert the problem into two-class problem. Create 5 sets of two classes \n",
    "   using random vector \n",
    "2. Apply five Decision tree with same hyperparametrs on these five sets.\n",
    "3. Test on the testing part of the dataset\n",
    "(Note: The ensemble classifier would be evaluated on the entire dataset)"
   ]
  },
  {
   "cell_type": "code",
   "execution_count": 53,
   "metadata": {},
   "outputs": [],
   "source": [
    "# Generate 5 sets of two class representation\n",
    "import random\n",
    "def initializer(Set, x):\n",
    "    if x in Set:\n",
    "        return 1\n",
    "    else:\n",
    "        return 0\n",
    "\n",
    "alphabets = ['A', 'B', 'C', 'D', 'E', 'F', 'G', 'H', 'I', 'J', 'K', 'L',\n",
    "             'M', 'N', 'O', 'P', 'Q', 'R', 'S', 'T', 'U', 'V', 'W', 'X', 'Y', 'Z']\n",
    "set1 = random.sample(alphabets, 10)\n",
    "set2 = random.sample(alphabets, 10)\n",
    "set3 = random.sample(alphabets, 10)\n",
    "set4 = random.sample(alphabets, 10)\n",
    "set5 = random.sample(alphabets, 10)\n",
    "\n",
    "Y1 = np.array([initializer(set1, y) for y in Y])\n",
    "Y2 = np.array([initializer(set2, y) for y in Y])\n",
    "Y3 = np.array([initializer(set3, y) for y in Y])\n",
    "Y4 = np.array([initializer(set4, y) for y in Y])\n",
    "Y5 = np.array([initializer(set5, y) for y in Y])"
   ]
  },
  {
   "cell_type": "code",
   "execution_count": 47,
   "metadata": {},
   "outputs": [],
   "source": [
    "# Model 1\n",
    "# Select the independent variables \n",
    "# select only the target lableled column\n",
    "# Train the model\n",
    "X_train1, X_test1, Y_train1, Y_test1 = train_test_split(X, Y1, test_size=0.30, random_state = 30)\n",
    "dtree1 = DecisionTreeClassifier(criterion='entropy', random_state = 30)\n",
    "dtree1 = dtree1.fit(X_train1,Y_train1)"
   ]
  },
  {
   "cell_type": "code",
   "execution_count": 48,
   "metadata": {},
   "outputs": [],
   "source": [
    "# Model 2\n",
    "# Select the independent variables \n",
    "# select only the target lableled column\n",
    "# Train the model\n",
    "X_train2, X_test2, Y_train2, Y_test2 = train_test_split(X, Y2, test_size=0.30, random_state = 30)\n",
    "dtree2 = DecisionTreeClassifier(criterion='entropy', random_state = 30)\n",
    "dtree2 = dtree2.fit(X_train2,Y_train2)"
   ]
  },
  {
   "cell_type": "code",
   "execution_count": 79,
   "metadata": {},
   "outputs": [],
   "source": [
    "# Model 3\n",
    "# Select the independent variables \n",
    "# select only the target lableled column\n",
    "# Train the model\n",
    "X_train3, X_test3, Y_train3, Y_test3 = train_test_split(X, Y3, test_size=0.30, random_state = 30)\n",
    "dtree3 = DecisionTreeClassifier(criterion='entropy', random_state = 30)\n",
    "dtree3 = dtree3.fit(X_train3,Y_train3)"
   ]
  },
  {
   "cell_type": "code",
   "execution_count": 49,
   "metadata": {},
   "outputs": [],
   "source": [
    "# Model 4\n",
    "# Select the independent variables \n",
    "# select only the target lableled column\n",
    "# Train the model\n",
    "X_train4, X_test4, Y_train4, Y_test4 = train_test_split(X, Y4, test_size=0.30, random_state = 30)\n",
    "dtree4 = DecisionTreeClassifier(criterion='entropy', random_state = 30)\n",
    "dtree4 = dtree4.fit(X_train4,Y_train4)"
   ]
  },
  {
   "cell_type": "code",
   "execution_count": 50,
   "metadata": {},
   "outputs": [],
   "source": [
    "# Model 5\n",
    "# Select the independent variables \n",
    "# select only the target lableled column\n",
    "# Train the model\n",
    "X_train5, X_test5, Y_train5, Y_test5 = train_test_split(X, Y5, test_size=0.30, random_state = 30)\n",
    "dtree5 = DecisionTreeClassifier(criterion='entropy', random_state = 30)\n",
    "dtree5 = dtree5.fit(X_train5,Y_train5)"
   ]
  },
  {
   "cell_type": "code",
   "execution_count": 84,
   "metadata": {},
   "outputs": [
    {
     "name": "stdout",
     "output_type": "stream",
     "text": [
      "['V' 'A' 'A' ... 'A' 'A' 'B']\n"
     ]
    }
   ],
   "source": [
    "# Apply Voting Classifier\n",
    "import numpy as np\n",
    "from scipy import stats\n",
    "p1 = dtree1.predict(X_test1).tolist()\n",
    "p2 = dtree2.predict(X_test2).tolist()\n",
    "p3 = dtree3.predict(X_test3).tolist()\n",
    "p4 = dtree4.predict(X_test4).tolist()\n",
    "p5 = dtree5.predict(X_test5).tolist()\n",
    "predictions = []\n",
    "\n",
    "for i in range(len(p1)):\n",
    "    alphavotes = [0 for i in range(26)]\n",
    "    for j in range(26):\n",
    "        if alphabets[j] in set1:\n",
    "            alphavotes[j] += p1[i]\n",
    "        if alphabets[j] in set2:\n",
    "            alphavotes[j] += p2[i]\n",
    "        if alphabets[j] in set3:\n",
    "            alphavotes[j] += p3[i]\n",
    "        if alphabets[j] in set4:\n",
    "            alphavotes[j] += p4[i]\n",
    "        if alphabets[j] in set5:\n",
    "            alphavotes[j] += p5[i]\n",
    "    predictions.append(alphabets[alphavotes.index(max(alphavotes))])\n",
    "predictions = np.array(predictions)"
   ]
  },
  {
   "cell_type": "code",
   "execution_count": 4,
   "metadata": {},
   "outputs": [],
   "source": [
    "# Calculate and print confusion matrix and other performance measures\n",
    "#print(classification_report(Y_test,predictions))\n",
    "#print(\"Confusion Matrix\")\n",
    "#print(confusion_matrix(Y_test,predictions))\n",
    "#print(\"\\n Accuracy\")\n",
    "#print(accuracy_score(Y_test,predictions))"
   ]
  },
  {
   "cell_type": "markdown",
   "metadata": {},
   "source": [
    "### Q5. Which method performs the best"
   ]
  },
  {
   "cell_type": "code",
   "execution_count": 86,
   "metadata": {},
   "outputs": [],
   "source": [
    "# Manipulation of Classifiers (Q2) works best"
   ]
  },
  {
   "cell_type": "code",
   "execution_count": null,
   "metadata": {},
   "outputs": [],
   "source": []
  }
 ],
 "metadata": {
  "kernelspec": {
   "display_name": "Python 3",
   "language": "python",
   "name": "python3"
  },
  "language_info": {
   "codemirror_mode": {
    "name": "ipython",
    "version": 3
   },
   "file_extension": ".py",
   "mimetype": "text/x-python",
   "name": "python",
   "nbconvert_exporter": "python",
   "pygments_lexer": "ipython3",
   "version": "3.8.5"
  }
 },
 "nbformat": 4,
 "nbformat_minor": 2
}
