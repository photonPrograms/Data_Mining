{
 "cells": [
  {
   "cell_type": "markdown",
   "metadata": {},
   "source": [
    "# K-Nearest Neighbour\n",
    "\n",
    "\n",
    "K nearest neighbors is a simple algorithm that stores all available cases and classifies new cases based on a similarity measure (e.g., distance functions). A new record is classified by a majority vote of its neighbors, with the case being assigned to the class most common amongst its K nearest neighbors measured by a distance function. If K = 1, then the case is simply assigned to the class of its nearest neighbor. \n",
    "\n",
    "Suppose you want to find out the class of the blue star (BS) in the image below. BS can either be RC or GS. The “K” is KNN algorithm is the nearest neighbor we wish to take the vote from. Let’s say K = 3. Hence, we will now make a circle with BS as the center just as big as to enclose only three datapoints on the plane. The three closest points to BS is all RC. Hence, with a good confidence level, we can say that the BS should belong to the class RC. Here, the choice became very obvious as all three votes from the closest neighbor went to RC. The choice of the parameter K is very crucial in this algorithm.\n",
    "\n",
    "<img src=\"img1.png\">\n",
    "\n",
    "The distance functions used for Numeric fields are given below:\n",
    "<img src=\"img2.png\">"
   ]
  },
  {
   "cell_type": "markdown",
   "metadata": {},
   "source": [
    "### Libraries useful in K-NN are listed below"
   ]
  },
  {
   "cell_type": "raw",
   "metadata": {},
   "source": [
    "To load dataset:    import pandas as pd\n",
    "K-NN Classifier:    from sklearn.neighbors import KNeighborsClassifier\n",
    "Train & Test Split: from sklearn.model_selection import train_test_split\n",
    "\n",
    "For Prediction and Evaluation\n",
    "\n",
    "from sklearn.metrics import classification_report,confusion_matrix\n",
    "from sklearn.metrics import accuracy_score\n"
   ]
  },
  {
   "cell_type": "markdown",
   "metadata": {},
   "source": [
    "### Get The Data. Load data \"spambase_data.csv\""
   ]
  },
  {
   "cell_type": "code",
   "execution_count": 2,
   "metadata": {},
   "outputs": [
    {
     "data": {
      "text/html": [
       "<div>\n",
       "<style scoped>\n",
       "    .dataframe tbody tr th:only-of-type {\n",
       "        vertical-align: middle;\n",
       "    }\n",
       "\n",
       "    .dataframe tbody tr th {\n",
       "        vertical-align: top;\n",
       "    }\n",
       "\n",
       "    .dataframe thead th {\n",
       "        text-align: right;\n",
       "    }\n",
       "</style>\n",
       "<table border=\"1\" class=\"dataframe\">\n",
       "  <thead>\n",
       "    <tr style=\"text-align: right;\">\n",
       "      <th></th>\n",
       "      <th>0</th>\n",
       "      <th>1</th>\n",
       "      <th>2</th>\n",
       "      <th>3</th>\n",
       "      <th>4</th>\n",
       "      <th>5</th>\n",
       "      <th>6</th>\n",
       "      <th>7</th>\n",
       "      <th>8</th>\n",
       "      <th>9</th>\n",
       "      <th>...</th>\n",
       "      <th>48</th>\n",
       "      <th>49</th>\n",
       "      <th>50</th>\n",
       "      <th>51</th>\n",
       "      <th>52</th>\n",
       "      <th>53</th>\n",
       "      <th>54</th>\n",
       "      <th>55</th>\n",
       "      <th>56</th>\n",
       "      <th>57</th>\n",
       "    </tr>\n",
       "  </thead>\n",
       "  <tbody>\n",
       "    <tr>\n",
       "      <th>0</th>\n",
       "      <td>0.00</td>\n",
       "      <td>0.64</td>\n",
       "      <td>0.64</td>\n",
       "      <td>0.0</td>\n",
       "      <td>0.32</td>\n",
       "      <td>0.00</td>\n",
       "      <td>0.00</td>\n",
       "      <td>0.00</td>\n",
       "      <td>0.00</td>\n",
       "      <td>0.00</td>\n",
       "      <td>...</td>\n",
       "      <td>0.00</td>\n",
       "      <td>0.000</td>\n",
       "      <td>0.0</td>\n",
       "      <td>0.778</td>\n",
       "      <td>0.000</td>\n",
       "      <td>0.000</td>\n",
       "      <td>3.756</td>\n",
       "      <td>61</td>\n",
       "      <td>278</td>\n",
       "      <td>1</td>\n",
       "    </tr>\n",
       "    <tr>\n",
       "      <th>1</th>\n",
       "      <td>0.21</td>\n",
       "      <td>0.28</td>\n",
       "      <td>0.50</td>\n",
       "      <td>0.0</td>\n",
       "      <td>0.14</td>\n",
       "      <td>0.28</td>\n",
       "      <td>0.21</td>\n",
       "      <td>0.07</td>\n",
       "      <td>0.00</td>\n",
       "      <td>0.94</td>\n",
       "      <td>...</td>\n",
       "      <td>0.00</td>\n",
       "      <td>0.132</td>\n",
       "      <td>0.0</td>\n",
       "      <td>0.372</td>\n",
       "      <td>0.180</td>\n",
       "      <td>0.048</td>\n",
       "      <td>5.114</td>\n",
       "      <td>101</td>\n",
       "      <td>1028</td>\n",
       "      <td>1</td>\n",
       "    </tr>\n",
       "    <tr>\n",
       "      <th>2</th>\n",
       "      <td>0.06</td>\n",
       "      <td>0.00</td>\n",
       "      <td>0.71</td>\n",
       "      <td>0.0</td>\n",
       "      <td>1.23</td>\n",
       "      <td>0.19</td>\n",
       "      <td>0.19</td>\n",
       "      <td>0.12</td>\n",
       "      <td>0.64</td>\n",
       "      <td>0.25</td>\n",
       "      <td>...</td>\n",
       "      <td>0.01</td>\n",
       "      <td>0.143</td>\n",
       "      <td>0.0</td>\n",
       "      <td>0.276</td>\n",
       "      <td>0.184</td>\n",
       "      <td>0.010</td>\n",
       "      <td>9.821</td>\n",
       "      <td>485</td>\n",
       "      <td>2259</td>\n",
       "      <td>1</td>\n",
       "    </tr>\n",
       "    <tr>\n",
       "      <th>3</th>\n",
       "      <td>0.00</td>\n",
       "      <td>0.00</td>\n",
       "      <td>0.00</td>\n",
       "      <td>0.0</td>\n",
       "      <td>0.63</td>\n",
       "      <td>0.00</td>\n",
       "      <td>0.31</td>\n",
       "      <td>0.63</td>\n",
       "      <td>0.31</td>\n",
       "      <td>0.63</td>\n",
       "      <td>...</td>\n",
       "      <td>0.00</td>\n",
       "      <td>0.137</td>\n",
       "      <td>0.0</td>\n",
       "      <td>0.137</td>\n",
       "      <td>0.000</td>\n",
       "      <td>0.000</td>\n",
       "      <td>3.537</td>\n",
       "      <td>40</td>\n",
       "      <td>191</td>\n",
       "      <td>1</td>\n",
       "    </tr>\n",
       "    <tr>\n",
       "      <th>4</th>\n",
       "      <td>0.00</td>\n",
       "      <td>0.00</td>\n",
       "      <td>0.00</td>\n",
       "      <td>0.0</td>\n",
       "      <td>0.63</td>\n",
       "      <td>0.00</td>\n",
       "      <td>0.31</td>\n",
       "      <td>0.63</td>\n",
       "      <td>0.31</td>\n",
       "      <td>0.63</td>\n",
       "      <td>...</td>\n",
       "      <td>0.00</td>\n",
       "      <td>0.135</td>\n",
       "      <td>0.0</td>\n",
       "      <td>0.135</td>\n",
       "      <td>0.000</td>\n",
       "      <td>0.000</td>\n",
       "      <td>3.537</td>\n",
       "      <td>40</td>\n",
       "      <td>191</td>\n",
       "      <td>1</td>\n",
       "    </tr>\n",
       "  </tbody>\n",
       "</table>\n",
       "<p>5 rows × 58 columns</p>\n",
       "</div>"
      ],
      "text/plain": [
       "     0     1     2    3     4     5     6     7     8     9   ...    48  \\\n",
       "0  0.00  0.64  0.64  0.0  0.32  0.00  0.00  0.00  0.00  0.00  ...  0.00   \n",
       "1  0.21  0.28  0.50  0.0  0.14  0.28  0.21  0.07  0.00  0.94  ...  0.00   \n",
       "2  0.06  0.00  0.71  0.0  1.23  0.19  0.19  0.12  0.64  0.25  ...  0.01   \n",
       "3  0.00  0.00  0.00  0.0  0.63  0.00  0.31  0.63  0.31  0.63  ...  0.00   \n",
       "4  0.00  0.00  0.00  0.0  0.63  0.00  0.31  0.63  0.31  0.63  ...  0.00   \n",
       "\n",
       "      49   50     51     52     53     54   55    56  57  \n",
       "0  0.000  0.0  0.778  0.000  0.000  3.756   61   278   1  \n",
       "1  0.132  0.0  0.372  0.180  0.048  5.114  101  1028   1  \n",
       "2  0.143  0.0  0.276  0.184  0.010  9.821  485  2259   1  \n",
       "3  0.137  0.0  0.137  0.000  0.000  3.537   40   191   1  \n",
       "4  0.135  0.0  0.135  0.000  0.000  3.537   40   191   1  \n",
       "\n",
       "[5 rows x 58 columns]"
      ]
     },
     "execution_count": 2,
     "metadata": {},
     "output_type": "execute_result"
    }
   ],
   "source": [
    "import pandas as pd\n",
    "df = pd.read_csv('spambase_data.csv',header =None)\n",
    "df.head() # used to display top 5 rows"
   ]
  },
  {
   "cell_type": "markdown",
   "metadata": {},
   "source": [
    "### Train and Test Split"
   ]
  },
  {
   "cell_type": "code",
   "execution_count": 3,
   "metadata": {},
   "outputs": [],
   "source": [
    "X = df[df.columns[:-1]] # Selecting the independent variables\n",
    "Y=df[df.columns[len(df.columns)-1]] # selecting only the target lableled column"
   ]
  },
  {
   "cell_type": "markdown",
   "metadata": {},
   "source": [
    "#### Obtain X_train, X_test, Y_train, Y_test by splitting the dataset into 70-30 ratio with a random state value 30.\n",
    "\n",
    "Note: random_state is used to control the shuffling in the split of the dataset.\n",
    "\n",
    "This method is called the Hold Out Method."
   ]
  },
  {
   "cell_type": "code",
   "execution_count": 4,
   "metadata": {},
   "outputs": [],
   "source": [
    "from sklearn.model_selection import train_test_split\n",
    "X_train, X_test, Y_train, Y_test = train_test_split(X, Y, test_size=0.30, random_state = 30)"
   ]
  },
  {
   "cell_type": "markdown",
   "metadata": {},
   "source": [
    "### Import the k-NN Classifier library"
   ]
  },
  {
   "cell_type": "code",
   "execution_count": 5,
   "metadata": {},
   "outputs": [],
   "source": [
    "from sklearn.neighbors import KNeighborsClassifier"
   ]
  },
  {
   "cell_type": "markdown",
   "metadata": {},
   "source": [
    "### Train 3-NN by using euclidean distance as distance measure"
   ]
  },
  {
   "cell_type": "code",
   "execution_count": 6,
   "metadata": {},
   "outputs": [
    {
     "data": {
      "text/plain": [
       "KNeighborsClassifier(metric='euclidean', n_neighbors=3)"
      ]
     },
     "execution_count": 6,
     "metadata": {},
     "output_type": "execute_result"
    }
   ],
   "source": [
    "knn=KNeighborsClassifier(n_neighbors=3, metric='euclidean')\n",
    "knn.fit(X_train, Y_train)"
   ]
  },
  {
   "cell_type": "markdown",
   "metadata": {},
   "source": [
    "### Prediction and Evaluation"
   ]
  },
  {
   "cell_type": "code",
   "execution_count": 7,
   "metadata": {},
   "outputs": [],
   "source": [
    "from sklearn.metrics import classification_report,confusion_matrix\n",
    "from sklearn.metrics import accuracy_score"
   ]
  },
  {
   "cell_type": "code",
   "execution_count": 8,
   "metadata": {},
   "outputs": [],
   "source": [
    "predictions = knn.predict(X_test)"
   ]
  },
  {
   "cell_type": "code",
   "execution_count": 9,
   "metadata": {},
   "outputs": [
    {
     "name": "stdout",
     "output_type": "stream",
     "text": [
      "              precision    recall  f1-score   support\n",
      "\n",
      "           0       0.83      0.85      0.84       863\n",
      "           1       0.74      0.72      0.73       518\n",
      "\n",
      "    accuracy                           0.80      1381\n",
      "   macro avg       0.79      0.78      0.78      1381\n",
      "weighted avg       0.80      0.80      0.80      1381\n",
      "\n",
      "Confusion Matrix\n",
      "[[730 133]\n",
      " [145 373]]\n",
      "\n",
      " Accuracy\n",
      "0.7986965966690803\n"
     ]
    }
   ],
   "source": [
    "print(classification_report(Y_test,predictions))\n",
    "print(\"Confusion Matrix\")\n",
    "print(confusion_matrix(Y_test,predictions))\n",
    "print(\"\\n Accuracy\")\n",
    "print(accuracy_score(Y_test,predictions))"
   ]
  },
  {
   "cell_type": "markdown",
   "metadata": {},
   "source": [
    "###  k (5)- fold method for training and testing split and check the difference in performance of 3-NN "
   ]
  },
  {
   "cell_type": "code",
   "execution_count": 10,
   "metadata": {},
   "outputs": [
    {
     "name": "stdout",
     "output_type": "stream",
     "text": [
      "scores:  [0.77090119 0.78586957 0.825      0.80543478 0.69456522]\n",
      "mean score:  0.7763541519142709\n"
     ]
    }
   ],
   "source": [
    "from sklearn.model_selection import cross_val_score\n",
    "knn_cv = KNeighborsClassifier(n_neighbors=3, metric = 'euclidean')\n",
    "scores = cross_val_score(knn_cv, X, Y, cv=5, scoring='accuracy')\n",
    "print('scores: ', scores)\n",
    "print('mean score: ', scores.mean())"
   ]
  },
  {
   "cell_type": "markdown",
   "metadata": {},
   "source": [
    "#### Q1: Normalize the dataset and apply 3-NN using both euclidean and manhattan distance"
   ]
  },
  {
   "cell_type": "code",
   "execution_count": 11,
   "metadata": {},
   "outputs": [
    {
     "name": "stdout",
     "output_type": "stream",
     "text": [
      "              precision    recall  f1-score   support\n",
      "\n",
      "           0       0.91      0.94      0.92       863\n",
      "           1       0.89      0.84      0.86       518\n",
      "\n",
      "    accuracy                           0.90      1381\n",
      "   macro avg       0.90      0.89      0.89      1381\n",
      "weighted avg       0.90      0.90      0.90      1381\n",
      "\n",
      "Confusion Matrix\n",
      "[[809  54]\n",
      " [ 84 434]]\n",
      "\n",
      " Accuracy\n",
      "0.9000724112961622\n",
      "              precision    recall  f1-score   support\n",
      "\n",
      "           0       0.90      0.95      0.92       863\n",
      "           1       0.90      0.83      0.86       518\n",
      "\n",
      "    accuracy                           0.90      1381\n",
      "   macro avg       0.90      0.89      0.89      1381\n",
      "weighted avg       0.90      0.90      0.90      1381\n",
      "\n",
      "Confusion Matrix\n",
      "[[818  45]\n",
      " [ 90 428]]\n",
      "\n",
      " Accuracy\n",
      "0.9022447501810282\n"
     ]
    }
   ],
   "source": [
    "# min-max scaling normalization\n",
    "from sklearn.preprocessing import MinMaxScaler\n",
    "scaler = MinMaxScaler()\n",
    "X_norm = pd.DataFrame(scaler.fit_transform(X), columns = X.columns)\n",
    "\n",
    "# splitting into test and train datasets again\n",
    "X_train, X_test, Y_train, Y_test = train_test_split(X_norm, Y, test_size=0.30, random_state = 30)\n",
    "\n",
    "# euclidean distance\n",
    "knn=KNeighborsClassifier(n_neighbors=3, metric='euclidean')\n",
    "knn.fit(X_train, Y_train)\n",
    "predictions = knn.predict(X_test)\n",
    "print(classification_report(Y_test,predictions))\n",
    "print(\"Confusion Matrix\")\n",
    "print(confusion_matrix(Y_test,predictions))\n",
    "print(\"\\n Accuracy\")\n",
    "print(accuracy_score(Y_test,predictions))\n",
    "\n",
    "# manhattan distance\n",
    "knn=KNeighborsClassifier(n_neighbors=3, metric='manhattan')\n",
    "knn.fit(X_train, Y_train)\n",
    "predictions = knn.predict(X_test)\n",
    "print(classification_report(Y_test,predictions))\n",
    "print(\"Confusion Matrix\")\n",
    "print(confusion_matrix(Y_test,predictions))\n",
    "print(\"\\n Accuracy\")\n",
    "print(accuracy_score(Y_test,predictions))"
   ]
  },
  {
   "cell_type": "markdown",
   "metadata": {},
   "source": [
    "#### Q2: Write your observation regarding change in the perfromance of KNN"
   ]
  },
  {
   "cell_type": "code",
   "execution_count": 12,
   "metadata": {},
   "outputs": [
    {
     "data": {
      "text/plain": [
       "'\\nNormalization has clearly increased the accuracy. Earlier for euclidean distance the accuracy was only 0.798\\nbut now it has jumped to 0.9. The accuracy is even higher 0.902 for manhattan distance. Further more false\\npositives and false negatives have decreased in the confusion matrix.\\n'"
      ]
     },
     "execution_count": 12,
     "metadata": {},
     "output_type": "execute_result"
    }
   ],
   "source": [
    "\"\"\"\n",
    "Normalization has clearly increased the accuracy. Earlier for euclidean distance the accuracy was only 0.798\n",
    "but now it has jumped to 0.9. The accuracy is even higher 0.902 for manhattan distance. Further more false\n",
    "positives and false negatives have decreased in the confusion matrix.\n",
    "\"\"\""
   ]
  },
  {
   "cell_type": "markdown",
   "metadata": {},
   "source": [
    "#### Q3: Find the accuracy of 1-NN model (using euclidean distance)"
   ]
  },
  {
   "cell_type": "code",
   "execution_count": 13,
   "metadata": {},
   "outputs": [
    {
     "name": "stdout",
     "output_type": "stream",
     "text": [
      "\n",
      " Accuracy\n",
      "0.9000724112961622\n"
     ]
    }
   ],
   "source": [
    "#### Code here ####\n",
    "# IMPORTANT: I will be using normalized dataset here.\n",
    "knn=KNeighborsClassifier(n_neighbors=1, metric='euclidean')\n",
    "knn.fit(X_train, Y_train)\n",
    "predictions = knn.predict(X_test)\n",
    "print(\"\\n Accuracy\")\n",
    "print(accuracy_score(Y_test,predictions))"
   ]
  },
  {
   "cell_type": "markdown",
   "metadata": {},
   "source": [
    "#### Q4: Find the accuracy of the models by taking k from 1 to 20. (Using euclidean distance and k(5)-fold method for train-test split)"
   ]
  },
  {
   "cell_type": "code",
   "execution_count": 19,
   "metadata": {},
   "outputs": [
    {
     "name": "stdout",
     "output_type": "stream",
     "text": [
      "0.7767891705612991\n",
      "0.765052872586508\n",
      "0.7763541519142709\n",
      "0.7674441769343341\n",
      "0.7724458292026626\n",
      "0.7600590095831563\n",
      "0.7687518292970779\n",
      "0.7596244630127932\n",
      "0.7596246990511258\n",
      "0.759841854317141\n",
      "0.7602778171175\n",
      "0.7535377425293868\n",
      "0.7567988481329367\n",
      "0.7561464381815608\n",
      "0.7531039040740216\n",
      "0.7541880281357692\n",
      "0.7552764008875041\n",
      "0.7531003634990322\n",
      "0.7559271585705518\n",
      "0.7541873200207714\n"
     ]
    }
   ],
   "source": [
    "#### Code here ####\n",
    "acc, num = [], []\n",
    "for k in range(20):\n",
    "    knn_cv = KNeighborsClassifier(n_neighbors=k+1, metric = 'euclidean')\n",
    "    scores = cross_val_score(knn_cv, X, Y, cv=5, scoring='accuracy')\n",
    "    acc.append(scores.mean())\n",
    "    num.append(k+1)\n",
    "    print(acc[k])"
   ]
  },
  {
   "cell_type": "markdown",
   "metadata": {},
   "source": [
    "#### Q5: Plot the graph between k and the accuracy score and find the best value of k"
   ]
  },
  {
   "cell_type": "code",
   "execution_count": 25,
   "metadata": {},
   "outputs": [
    {
     "name": "stdout",
     "output_type": "stream",
     "text": [
      "1\n"
     ]
    },
    {
     "data": {
      "image/png": "[encoded data removed]",
      "text/plain": [
       "<Figure size 432x288 with 1 Axes>"
      ]
     },
     "metadata": {
      "needs_background": "light"
     },
     "output_type": "display_data"
    }
   ],
   "source": [
    "#### Write your answer here ####\n",
    "import matplotlib.pyplot as plt\n",
    "plt.plot(num, acc)\n",
    "max, k = acc[0], 1\n",
    "for i in range(20):\n",
    "    if max < acc[i]:\n",
    "        max = acc[i]\n",
    "        k = i + 1\n",
    "print(k)"
   ]
  },
  {
   "cell_type": "markdown",
   "metadata": {},
   "source": [
    "#### Q6: Find the accuracy of the models by taking k from 1 to 20. (Using manhattan distance  k(5)-fold method for train-test split)"
   ]
  },
  {
   "cell_type": "code",
   "execution_count": 26,
   "metadata": {},
   "outputs": [
    {
     "name": "stdout",
     "output_type": "stream",
     "text": [
      "0.8050427229382052\n",
      "0.7917865741396403\n",
      "0.797435443516027\n",
      "0.7963517915309446\n",
      "0.796351555492612\n",
      "0.7924406363593448\n",
      "0.7970051456356512\n",
      "0.7961360524949251\n",
      "0.8020039654439881\n",
      "0.7950507482415144\n",
      "0.7976592078553557\n",
      "0.7913558041825992\n",
      "0.792659679932021\n",
      "0.7922260775149884\n",
      "0.7900526365481755\n",
      "0.7883132700750602\n",
      "0.7904848227352121\n",
      "0.786573195486947\n",
      "0.7926594438936883\n",
      "0.7880944625407167\n"
     ]
    }
   ],
   "source": [
    "#### Code here ####\n",
    "acc, num = [], []\n",
    "for k in range(20):\n",
    "    knn_cv = KNeighborsClassifier(n_neighbors=k+1, metric = 'manhattan')\n",
    "    scores = cross_val_score(knn_cv, X, Y, cv=5, scoring='accuracy')\n",
    "    acc.append(scores.mean())\n",
    "    num.append(k+1)\n",
    "    print(acc[k])"
   ]
  },
  {
   "cell_type": "markdown",
   "metadata": {},
   "source": [
    "#### Q7:  Plot the graph between k and the accuracy score and find the best value of k"
   ]
  },
  {
   "cell_type": "code",
   "execution_count": 27,
   "metadata": {},
   "outputs": [
    {
     "name": "stdout",
     "output_type": "stream",
     "text": [
      "1\n"
     ]
    },
    {
     "data": {
      "image/png": "[encoded data removed]",
      "text/plain": [
       "<Figure size 432x288 with 1 Axes>"
      ]
     },
     "metadata": {
      "needs_background": "light"
     },
     "output_type": "display_data"
    }
   ],
   "source": [
    "#### Write your answer here ####\n",
    "plt.plot(num, acc)\n",
    "max, k = acc[0], 1\n",
    "for i in range(20):\n",
    "    if max < acc[i]:\n",
    "        max = acc[i]\n",
    "        k = i + 1\n",
    "print(k)"
   ]
  },
  {
   "cell_type": "markdown",
   "metadata": {},
   "source": [
    "#### Q8: Write your observation"
   ]
  },
  {
   "cell_type": "code",
   "execution_count": 28,
   "metadata": {},
   "outputs": [
    {
     "data": {
      "text/plain": [
       "'\\nThere are accuracy crests for odd values of k and troughs for even values.\\nFurthermore, accuracy is highest for k = 1.\\n'"
      ]
     },
     "execution_count": 28,
     "metadata": {},
     "output_type": "execute_result"
    }
   ],
   "source": [
    "#### Code here ####\n",
    "\"\"\"\n",
    "There are accuracy crests for odd values of k and troughs for even values.\n",
    "Furthermore, accuracy is highest for k = 1.\n",
    "\"\"\""
   ]
  },
  {
   "cell_type": "markdown",
   "metadata": {},
   "source": [
    "#### Q9: Implement the weighted k-NN model. Use k(5)-fold method for train-test split"
   ]
  },
  {
   "cell_type": "code",
   "execution_count": 30,
   "metadata": {},
   "outputs": [
    {
     "name": "stdout",
     "output_type": "stream",
     "text": [
      "0.7767891705612991\n",
      "0.7772237171316622\n",
      "0.7880921021573903\n",
      "0.7891785866024643\n",
      "0.7883113817683991\n",
      "0.7930923381957229\n",
      "0.7878775433130342\n",
      "0.7896162016711514\n",
      "0.7807052825378842\n",
      "0.7822279658216494\n",
      "0.7826627484303451\n",
      "0.7822282018599821\n",
      "0.7787506491054148\n",
      "0.7804907236935278\n",
      "0.7780989472690364\n",
      "0.7828799036963604\n",
      "0.7780989472690365\n",
      "0.7789675683330973\n",
      "0.7759238540338951\n",
      "0.7802709720058537\n"
     ]
    }
   ],
   "source": [
    "#### Code here ####\n",
    "acc, num = [], []\n",
    "for k in range(20):\n",
    "    knn_cv = KNeighborsClassifier(n_neighbors=k+1, weights = 'distance', metric = 'euclidean')\n",
    "    scores = cross_val_score(knn_cv, X, Y, cv=5, scoring='accuracy')\n",
    "    acc.append(scores.mean())\n",
    "    num.append(k+1)\n",
    "    print(acc[k])"
   ]
  },
  {
   "cell_type": "markdown",
   "metadata": {},
   "source": [
    "#### Q10: What is the best k value in this model. Take max k =20"
   ]
  },
  {
   "cell_type": "code",
   "execution_count": 31,
   "metadata": {},
   "outputs": [
    {
     "name": "stdout",
     "output_type": "stream",
     "text": [
      "6\n"
     ]
    },
    {
     "data": {
      "image/png": "[encoded data removed]",
      "text/plain": [
       "<Figure size 432x288 with 1 Axes>"
      ]
     },
     "metadata": {
      "needs_background": "light"
     },
     "output_type": "display_data"
    }
   ],
   "source": [
    "#### Write your answer here ####\n",
    "plt.plot(num, acc)\n",
    "max, k = acc[0], 1\n",
    "for i in range(20):\n",
    "    if max < acc[i]:\n",
    "        max = acc[i]\n",
    "        k = i + 1\n",
    "print(k)"
   ]
  },
  {
   "cell_type": "code",
   "execution_count": null,
   "metadata": {},
   "outputs": [],
   "source": []
  }
 ],
 "metadata": {
  "kernelspec": {
   "display_name": "Python 3",
   "language": "python",
   "name": "python3"
  },
  "language_info": {
   "codemirror_mode": {
    "name": "ipython",
    "version": 3
   },
   "file_extension": ".py",
   "mimetype": "text/x-python",
   "name": "python",
   "nbconvert_exporter": "python",
   "pygments_lexer": "ipython3",
   "version": "3.8.5"
  }
 },
 "nbformat": 4,
 "nbformat_minor": 2
}
