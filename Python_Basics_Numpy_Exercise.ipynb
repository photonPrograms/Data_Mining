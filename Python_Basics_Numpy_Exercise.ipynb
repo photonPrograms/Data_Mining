{
 "cells": [
  {
   "cell_type": "markdown",
   "metadata": {},
   "source": [
    "<font size=\"4\"><b> Python Basics and Numpy Excercise:\n",
    "\n",
    "Data types:Numbers,Strings,Printing,Lists,Dictionaries,Tuples, Arrays and Numpy </b> </font>"
   ]
  },
  {
   "cell_type": "markdown",
   "metadata": {},
   "source": [
    "<b> Q-1: What will be the output of the following expression ((15%3)**(16/2))+7  ?</b>"
   ]
  },
  {
   "cell_type": "code",
   "execution_count": 2,
   "metadata": {},
   "outputs": [
    {
     "name": "stdout",
     "output_type": "stream",
     "text": [
      "7.0\n"
     ]
    }
   ],
   "source": [
    "print(((15%3)**(16/2)) + 7)"
   ]
  },
  {
   "cell_type": "markdown",
   "metadata": {},
   "source": [
    "<b> Q-2: Split this string: s = \"Hi I am learning python!\" into a list. </b>"
   ]
  },
  {
   "cell_type": "code",
   "execution_count": 3,
   "metadata": {},
   "outputs": [
    {
     "name": "stdout",
     "output_type": "stream",
     "text": [
      "['Hi', 'I', 'am', 'learning', 'python!']\n"
     ]
    }
   ],
   "source": [
    "s = \"Hi I am learning python!\"\n",
    "l = s.split()\n",
    "print(l)"
   ]
  },
  {
   "cell_type": "markdown",
   "metadata": {},
   "source": [
    "<b> Q-3: Create a 2D array my_2darray of size 4*5 initialized with random values between 1 and 100. </b>"
   ]
  },
  {
   "cell_type": "code",
   "execution_count": 7,
   "metadata": {},
   "outputs": [
    {
     "name": "stdout",
     "output_type": "stream",
     "text": [
      "[[81, 4, 2, 21, 28], [89, 19, 94, 87, 42], [2, 64, 9, 77, 13], [50, 71, 88, 74, 25]]\n"
     ]
    }
   ],
   "source": [
    "import random\n",
    "rows, cols = (4, 5)\n",
    "my_2darray = [[random.randrange(100) for j in range(cols)] for i in range(rows)]\n",
    "print(my_2darray)"
   ]
  },
  {
   "cell_type": "markdown",
   "metadata": {},
   "source": [
    "<b> Q-4:Print all the elements from row 0 to 2 (both inclusive) and column 1 to 3 (both inclusive) of my_2darray. </b>\n"
   ]
  },
  {
   "cell_type": "code",
   "execution_count": 16,
   "metadata": {},
   "outputs": [
    {
     "name": "stdout",
     "output_type": "stream",
     "text": [
      "4 2 21 \n",
      "19 94 87 \n",
      "64 9 77 \n"
     ]
    }
   ],
   "source": [
    "for i in range(3):\n",
    "    for j in range(1, 4):\n",
    "        print(my_2darray[i][j], end = \" \")\n",
    "    print()"
   ]
  },
  {
   "cell_type": "markdown",
   "metadata": {},
   "source": [
    "<b>Q-5:What is the main difference between a tuple and a list?</b>"
   ]
  },
  {
   "cell_type": "code",
   "execution_count": 5,
   "metadata": {},
   "outputs": [],
   "source": [
    "Lists are mutable, but tuples are immutable."
   ]
  },
  {
   "cell_type": "markdown",
   "metadata": {},
   "source": [
    "<b> Q-6: Create a nested list with name learn_list with the following elements [[1,2,3], [[1,2,3],Get,Set,Go]] and grab the word 'Go'</b>"
   ]
  },
  {
   "cell_type": "code",
   "execution_count": 18,
   "metadata": {},
   "outputs": [
    {
     "name": "stdout",
     "output_type": "stream",
     "text": [
      "Go\n"
     ]
    }
   ],
   "source": [
    "learn_list = [[1, 2, 3], [[1, 2, 3], \"Get\", \"Set\", \"Go\"]]\n",
    "print(learn_list[1][-1])"
   ]
  },
  {
   "cell_type": "markdown",
   "metadata": {},
   "source": [
    "<b> Q-7:Given this nested dictionary 'd' grab the word \"hello\"</b>"
   ]
  },
  {
   "cell_type": "markdown",
   "metadata": {},
   "source": [
    "<b>d = {'k1':[1,2,3,{'tricky':['oh','man','inception',{'target':[1,2,3,'hello']}]}]}"
   ]
  },
  {
   "cell_type": "code",
   "execution_count": 19,
   "metadata": {},
   "outputs": [
    {
     "name": "stdout",
     "output_type": "stream",
     "text": [
      "hello\n"
     ]
    }
   ],
   "source": [
    "d = {\"k1\": [1, 2, 3, {\"tricky\": [\"oh\", \"man\", \"inception\", {\"target\": [1, 2, 3, \"hello\"]}]}]}\n",
    "print(d[\"k1\"][-1][\"tricky\"][-1][\"target\"][-1])"
   ]
  },
  {
   "cell_type": "markdown",
   "metadata": {},
   "source": [
    "<b> Q-8:Create a function that counts the number of times the word \"hello\" occurs in a string. </b>"
   ]
  },
  {
   "cell_type": "code",
   "execution_count": 21,
   "metadata": {},
   "outputs": [],
   "source": [
    "def word_count(str, word):\n",
    "    count = 0\n",
    "    for w in str.split():\n",
    "        if w == word:\n",
    "            count += 1\n",
    "    return count"
   ]
  },
  {
   "cell_type": "code",
   "execution_count": 22,
   "metadata": {},
   "outputs": [
    {
     "name": "stdout",
     "output_type": "stream",
     "text": [
      "2\n"
     ]
    }
   ],
   "source": [
    "print(word_count(\"a python is programming in python\", \"python\"))"
   ]
  },
  {
   "cell_type": "markdown",
   "metadata": {},
   "source": [
    "<font size=\"3\"><b> Next two questions are based on NumPy library. Import numpy before solving question 9 and 10 </b> </font>\n",
    "   "
   ]
  },
  {
   "cell_type": "markdown",
   "metadata": {},
   "source": [
    "<b> Q-9: Create an array of cubes of first 10 natural numbers using arange function.</b>\n",
    "\n"
   ]
  },
  {
   "cell_type": "code",
   "execution_count": 23,
   "metadata": {},
   "outputs": [],
   "source": [
    "import numpy as np"
   ]
  },
  {
   "cell_type": "code",
   "execution_count": 24,
   "metadata": {},
   "outputs": [
    {
     "name": "stdout",
     "output_type": "stream",
     "text": [
      "[   1    8   27   64  125  216  343  512  729 1000]\n"
     ]
    }
   ],
   "source": [
    "arr = np.arange(1, 11) ** 3\n",
    "print(arr)"
   ]
  },
  {
   "cell_type": "markdown",
   "metadata": {},
   "source": [
    "<b> Q-10: Write code to print the following matrix  \n",
    "    \n",
    " array([[ 1,  2,  3,  4,  5],<br>\n",
    "       [ 6,  7,  8,  9, 10],<br>\n",
    "       [11, 12, 13, 14, 15],<br>\n",
    "       [16, 17, 18, 19, 20],<br>\n",
    "       [21, 22, 23, 24, 25]])<br> \n",
    "       \n",
    "       and grab the following segment\n",
    "       \n",
    "       array([[ 2], \n",
    "             [ 7],  \n",
    "             [12]])\n"
   ]
  },
  {
   "cell_type": "code",
   "execution_count": 25,
   "metadata": {},
   "outputs": [
    {
     "name": "stdout",
     "output_type": "stream",
     "text": [
      "[[ 1  2  3  4  5]\n",
      " [ 6  7  8  9 10]\n",
      " [11 12 13 14 15]\n",
      " [16 17 18 19 20]\n",
      " [21 22 23 24 25]]\n"
     ]
    }
   ],
   "source": [
    "arr = np.array([[1, 2, 3, 4, 5],\n",
    "               [6, 7, 8, 9, 10],\n",
    "               [11, 12, 13, 14, 15],\n",
    "               [16, 17, 18, 19, 20],\n",
    "               [21, 22, 23, 24, 25]])\n",
    "print(arr)"
   ]
  },
  {
   "cell_type": "code",
   "execution_count": 27,
   "metadata": {},
   "outputs": [
    {
     "name": "stdout",
     "output_type": "stream",
     "text": [
      "[[ 2]\n",
      " [ 7]\n",
      " [12]]\n"
     ]
    }
   ],
   "source": [
    "print(arr[0:3, 1].reshape(3,1))"
   ]
  }
 ],
 "metadata": {
  "kernelspec": {
   "display_name": "Python 3",
   "language": "python",
   "name": "python3"
  },
  "language_info": {
   "codemirror_mode": {
    "name": "ipython",
    "version": 3
   },
   "file_extension": ".py",
   "mimetype": "text/x-python",
   "name": "python",
   "nbconvert_exporter": "python",
   "pygments_lexer": "ipython3",
   "version": "3.8.5"
  }
 },
 "nbformat": 4,
 "nbformat_minor": 4
}
