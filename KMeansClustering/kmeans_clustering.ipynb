{
 "cells": [
  {
   "cell_type": "markdown",
   "metadata": {},
   "source": [
    "# K-means\n",
    "\n",
    "\n",
    "Kmeans algorithm is an iterative algorithm that tries to partition the dataset into K pre-defined distinct non-overlapping subgroups (clusters) where each data point belongs to only one group. It tries to make the intra-cluster data points as similar as possible while also keeping the clusters as different (far) as possible. It assigns data points to a cluster such that the sum of the squared distance between the data points and the cluster’s centroid (arithmetic mean of all the data points that belong to that cluster) is at the minimum.\n",
    "\n"
   ]
  },
  {
   "cell_type": "markdown",
   "metadata": {},
   "source": [
    "###  Algorithm\n",
    "The following are the main steps of the algorithm:\n",
    "\n",
    "1. Specify number of clusters K.\n",
    "2. Initialize centroids by first shuffling the dataset and then randomly selecting K data points for the centroids without  \n",
    "   replacement.\n",
    "3. Keep iterating until there is no change to the centroids. i.e assignment of data points to clusters isn’t changing."
   ]
  },
  {
   "cell_type": "markdown",
   "metadata": {},
   "source": [
    "* Compute the sum of the squared distance between data points and all centroids.\n",
    "* Assign each data point to the closest cluster (centroid).\n",
    "* Compute the centroids for the clusters by taking the average of the all data points that belong to each cluster."
   ]
  },
  {
   "cell_type": "markdown",
   "metadata": {},
   "source": [
    "### Libraries useful for k-means"
   ]
  },
  {
   "cell_type": "raw",
   "metadata": {},
   "source": [
    "To load dataset:    import pandas as pd\n",
    "Preprocessing:      from sklearn import preprocessing\n",
    "ploting graph:      import matplotlib.pyplot as plt\n",
    "k-means:            from sklearn.cluster import KMeans"
   ]
  },
  {
   "cell_type": "code",
   "execution_count": 2,
   "metadata": {},
   "outputs": [],
   "source": [
    "#import libraries\n",
    "import pandas as pd\n",
    "from sklearn import preprocessing\n",
    "import matplotlib.pyplot as plt\n",
    "from sklearn.cluster import KMeans\n",
    "import numpy as np"
   ]
  },
  {
   "cell_type": "markdown",
   "metadata": {},
   "source": [
    "### Load the \"iris\" data"
   ]
  },
  {
   "cell_type": "code",
   "execution_count": 3,
   "metadata": {},
   "outputs": [
    {
     "name": "stdout",
     "output_type": "stream",
     "text": [
      "       0    1    2    3               4\n",
      "0    5.1  3.5  1.4  0.2     Iris-setosa\n",
      "1    4.9  3.0  1.4  0.2     Iris-setosa\n",
      "2    4.7  3.2  1.3  0.2     Iris-setosa\n",
      "3    4.6  3.1  1.5  0.2     Iris-setosa\n",
      "4    5.0  3.6  1.4  0.2     Iris-setosa\n",
      "..   ...  ...  ...  ...             ...\n",
      "145  6.7  3.0  5.2  2.3  Iris-virginica\n",
      "146  6.3  2.5  5.0  1.9  Iris-virginica\n",
      "147  6.5  3.0  5.2  2.0  Iris-virginica\n",
      "148  6.2  3.4  5.4  2.3  Iris-virginica\n",
      "149  5.9  3.0  5.1  1.8  Iris-virginica\n",
      "\n",
      "[150 rows x 5 columns]\n"
     ]
    }
   ],
   "source": [
    "#load the dataset\n",
    "df = pd.read_csv(\"iris.data\", header = None)\n",
    "print(df)"
   ]
  },
  {
   "cell_type": "markdown",
   "metadata": {},
   "source": [
    "### Q1. Perform pre-processing (if required)"
   ]
  },
  {
   "cell_type": "code",
   "execution_count": 4,
   "metadata": {},
   "outputs": [
    {
     "name": "stdout",
     "output_type": "stream",
     "text": [
      "0\n"
     ]
    }
   ],
   "source": [
    "# check if null values are there\n",
    "print(df.isnull().sum().sum()) # prints number of null values\n",
    "# it so happens that there are no null values"
   ]
  },
  {
   "cell_type": "code",
   "execution_count": 2,
   "metadata": {},
   "outputs": [],
   "source": [
    "# performing standardization\n",
    "# z-score normalization applied\n",
    "#df.iloc[:,0:-1] = df.iloc[:,0:-1].apply(lambda x: (x - x.mean()) / x.std(), axis = 0)\n",
    "#print(df)\n",
    "#x = df.iloc[:, [0, 1, 2, 3]].values # numeric attribute values\n",
    "#print(x)"
   ]
  },
  {
   "cell_type": "markdown",
   "metadata": {},
   "source": [
    "### Q2. Apply K-means on the dataset\n",
    "\n",
    "The various paramteres used are as follows:\n",
    "\n",
    "**init** controls the initialization technique. The standard version of the k-means algorithm is implemented by setting init to \"random\". Setting this to \"k-means++\" employs an advanced trick to speed up convergence.\n",
    "\n",
    "**n_clusters** sets k for the clustering step. This is the most important parameter for k-means.\n",
    "\n",
    "**n_init** sets the number of initializations to perform. This is important because two runs can converge on different cluster assignments. The default behavior for the scikit-learn algorithm is to perform ten k-means runs and return the results of the one with the lowest SSE.\n",
    "\n",
    "**max_iter** sets the number of maximum iterations for each initialization of the k-means algorithm.\n",
    "\n",
    "Use random initialization, number of clusters = 5, number of initializations = 10, maximum iterations = 300, random state = 42  "
   ]
  },
  {
   "cell_type": "code",
   "execution_count": 6,
   "metadata": {},
   "outputs": [
    {
     "name": "stdout",
     "output_type": "stream",
     "text": [
      "[3 0 0 0 3 3 0 3 0 0 3 0 0 0 3 3 3 3 3 3 3 3 3 0 0 0 3 3 3 0 0 3 3 3 0 0 3\n",
      " 0 0 3 3 0 0 3 3 0 3 0 3 0 2 4 2 1 4 4 4 1 4 1 1 4 1 4 4 4 4 1 1 1 4 4 4 4\n",
      " 4 4 4 4 4 1 1 1 1 4 4 4 4 1 4 1 1 4 1 1 1 4 4 4 1 4 2 4 2 4 2 2 1 2 4 2 2\n",
      " 4 2 1 4 2 4 2 2 1 2 4 2 4 2 2 4 4 4 2 2 2 4 4 4 2 2 4 4 2 2 2 4 2 2 2 4 4\n",
      " 2 4]\n"
     ]
    }
   ],
   "source": [
    "# apply k-means\n",
    "kmeans = KMeans(n_clusters = 5, init = 'random', max_iter = 300, n_init = 10, random_state = 42)\n",
    "ypred = kmeans.fit_predict(x)\n",
    "print(ypred)"
   ]
  },
  {
   "cell_type": "code",
   "execution_count": 7,
   "metadata": {},
   "outputs": [
    {
     "data": {
      "image/png": "[encoded data removed]",
      "text/plain": [
       "<Figure size 432x288 with 1 Axes>"
      ]
     },
     "metadata": {
      "needs_background": "light"
     },
     "output_type": "display_data"
    }
   ],
   "source": [
    "#plot the clusters\n",
    "labels = np.unique(ypred) \n",
    "for i in labels:\n",
    "    plt.scatter(x[ypred == i , 0] , x[ypred == i , 1] , label = i)\n",
    "plt.legend()\n",
    "plt.show()"
   ]
  },
  {
   "cell_type": "markdown",
   "metadata": {},
   "source": [
    " ### Q3. Find the lowest SSE values and final locations of the centroid"
   ]
  },
  {
   "cell_type": "code",
   "execution_count": 8,
   "metadata": {},
   "outputs": [
    {
     "name": "stdout",
     "output_type": "stream",
     "text": [
      "90.54094385329823\n"
     ]
    }
   ],
   "source": [
    "# The lowest SSE value\n",
    "print(kmeans.inertia_)"
   ]
  },
  {
   "cell_type": "code",
   "execution_count": 9,
   "metadata": {},
   "outputs": [
    {
     "name": "stdout",
     "output_type": "stream",
     "text": [
      "[[-1.33872246  0.12614476 -1.30968819 -1.30289569]\n",
      " [-0.35423902 -1.4034904   0.13420151  0.04939584]\n",
      " [ 1.39266461  0.24128704  1.1569427   1.21268196]\n",
      " [-0.73218343  1.44716262 -1.29271282 -1.20667749]\n",
      " [ 0.36664396 -0.36929094  0.58208781  0.53657975]]\n"
     ]
    }
   ],
   "source": [
    "# Final locations of the centroid\n",
    "print(kmeans.cluster_centers_)"
   ]
  },
  {
   "cell_type": "markdown",
   "metadata": {},
   "source": [
    "### Q4. Use initialization technique as \"k-means++\" and calculate the above values again"
   ]
  },
  {
   "cell_type": "code",
   "execution_count": 10,
   "metadata": {},
   "outputs": [
    {
     "name": "stdout",
     "output_type": "stream",
     "text": [
      "[3 1 1 1 3 3 1 3 1 1 3 1 1 1 3 3 3 3 3 3 3 3 3 1 1 1 3 3 3 1 1 3 3 3 1 1 3\n",
      " 1 1 3 3 1 1 3 3 1 3 1 3 1 0 0 0 2 0 2 0 2 0 2 2 0 2 0 2 0 0 2 2 2 0 0 0 0\n",
      " 0 0 0 0 0 2 2 2 2 0 0 0 0 2 0 2 2 0 2 2 2 0 0 0 2 2 4 0 4 0 4 4 2 4 0 4 4\n",
      " 0 4 2 0 4 0 4 4 2 4 0 4 0 4 4 0 0 0 4 4 4 0 0 0 4 4 0 0 4 4 4 0 4 4 4 0 0\n",
      " 4 0]\n"
     ]
    }
   ],
   "source": [
    "# code here\n",
    "kmeans = KMeans(n_clusters = 5, init = 'k-means++', max_iter = 300, n_init = 10, random_state = 42)\n",
    "ypred = kmeans.fit_predict(x)\n",
    "print(ypred)"
   ]
  },
  {
   "cell_type": "code",
   "execution_count": 11,
   "metadata": {},
   "outputs": [
    {
     "name": "stdout",
     "output_type": "stream",
     "text": [
      "90.58402355465488\n"
     ]
    }
   ],
   "source": [
    "# The lowest SSE value\n",
    "print(kmeans.inertia_)"
   ]
  },
  {
   "cell_type": "code",
   "execution_count": 12,
   "metadata": {},
   "outputs": [
    {
     "name": "stdout",
     "output_type": "stream",
     "text": [
      "[[ 0.44330195 -0.33595152  0.60789556  0.55318184]\n",
      " [-1.33872246  0.12614476 -1.30968819 -1.30289569]\n",
      " [-0.33733216 -1.29614247  0.13904471  0.05940208]\n",
      " [-0.73218343  1.44716262 -1.29271282 -1.20667749]\n",
      " [ 1.39682886  0.24275978  1.1989248   1.27811528]]\n"
     ]
    }
   ],
   "source": [
    "# Final locations of the centroid\n",
    "print(kmeans.cluster_centers_)"
   ]
  },
  {
   "cell_type": "markdown",
   "metadata": {},
   "source": [
    "### Q5. Draw a graph between k and SSE\n",
    "\n",
    "The **elbow method** is commonly used to evaluate the appropriate number of clusters. To perform the elbow method, run several k-means, increment k with each iteration, and record the SSE.\n",
    "\n",
    "Vary the value of k from 1 to 10, using same parameters for KMeans as above."
   ]
  },
  {
   "cell_type": "code",
   "execution_count": 13,
   "metadata": {},
   "outputs": [
    {
     "name": "stdout",
     "output_type": "stream",
     "text": [
      "[596.0000000000002, 222.24045903185183, 140.0260445198753, 113.91766799205044, 90.58402355465488, 79.69573633143575, 71.75118653568686, 62.04365223213517, 55.15149478962031, 47.246240864521475]\n"
     ]
    }
   ],
   "source": [
    "sse = []\n",
    "for i in range(10):\n",
    "    kmeans = KMeans(n_clusters = i + 1, init = 'k-means++', max_iter = 300, n_init = 10, random_state = 42)\n",
    "    kmeans.fit(x)\n",
    "    sse.append(kmeans.inertia_)\n",
    "print(sse)"
   ]
  },
  {
   "cell_type": "code",
   "execution_count": 14,
   "metadata": {},
   "outputs": [
    {
     "data": {
      "text/plain": [
       "[<matplotlib.lines.Line2D at 0x7f279aff9190>]"
      ]
     },
     "execution_count": 14,
     "metadata": {},
     "output_type": "execute_result"
    },
    {
     "data": {
      "image/png": "[encoded data removed]",
      "text/plain": [
       "<Figure size 432x288 with 1 Axes>"
      ]
     },
     "metadata": {},
     "output_type": "display_data"
    }
   ],
   "source": [
    "# Plot the graph\n",
    "# Note: use style as \"fivethirtyeight\" to plot the graph and view sse values appropriately\n",
    "import matplotlib.style as style\n",
    "style.use(\"fivethirtyeight\")\n",
    "plt.plot(range(1, 11), sse)"
   ]
  },
  {
   "cell_type": "markdown",
   "metadata": {},
   "source": [
    "### Q6. What is the elbow point in the SSE curve?\n"
   ]
  },
  {
   "cell_type": "code",
   "execution_count": 15,
   "metadata": {},
   "outputs": [
    {
     "name": "stdout",
     "output_type": "stream",
     "text": [
      "Value of elbow point is 3 clusters\n"
     ]
    }
   ],
   "source": [
    "# value \n",
    "print(\"Value of elbow point is 3 clusters\")"
   ]
  },
  {
   "cell_type": "code",
   "execution_count": null,
   "metadata": {},
   "outputs": [],
   "source": []
  }
 ],
 "metadata": {
  "kernelspec": {
   "display_name": "Python 3",
   "language": "python",
   "name": "python3"
  },
  "language_info": {
   "codemirror_mode": {
    "name": "ipython",
    "version": 3
   },
   "file_extension": ".py",
   "mimetype": "text/x-python",
   "name": "python",
   "nbconvert_exporter": "python",
   "pygments_lexer": "ipython3",
   "version": "3.8.5"
  }
 },
 "nbformat": 4,
 "nbformat_minor": 2
}
