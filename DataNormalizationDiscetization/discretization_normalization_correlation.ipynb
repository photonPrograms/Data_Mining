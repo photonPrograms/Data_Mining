{
 "cells": [
  {
   "cell_type": "code",
   "execution_count": 65,
   "metadata": {},
   "outputs": [],
   "source": [
    "#Load the  \"iris_data_with_missing_values.csv\"\n",
    "import pandas as pd\n",
    "import numpy as np"
   ]
  },
  {
   "cell_type": "markdown",
   "metadata": {},
   "source": [
    "<b>Q-1: Create a dataframe and label the columns."
   ]
  },
  {
   "cell_type": "code",
   "execution_count": 66,
   "metadata": {},
   "outputs": [
    {
     "name": "stdout",
     "output_type": "stream",
     "text": [
      "     Sepal length  Sepal width  Petal length  Petal width           Class\n",
      "0             5.1          3.5           1.4          0.2     Iris-setosa\n",
      "1             4.9          3.0           1.4          0.2     Iris-setosa\n",
      "2             4.7          3.2           1.3          0.2     Iris-setosa\n",
      "3             4.6          3.1           1.5          0.2     Iris-setosa\n",
      "4             5.0          3.6           1.4          0.2     Iris-setosa\n",
      "..            ...          ...           ...          ...             ...\n",
      "145           6.7          3.0           5.2          2.3  Iris-virginica\n",
      "146           6.3          2.5           5.0          1.9  Iris-virginica\n",
      "147           6.5          3.0           5.2          2.0  Iris-virginica\n",
      "148           6.2          3.4           5.4          2.3  Iris-virginica\n",
      "149           5.9          NaN           5.1          1.8  Iris-virginica\n",
      "\n",
      "[150 rows x 5 columns]\n"
     ]
    }
   ],
   "source": [
    "#solution to q-1\n",
    "df = pd.read_csv(\"iris_data_with_missing_values.csv\",\n",
    "                   header = None,\n",
    "                   names = [\"Sepal length\", \"Sepal width\", \"Petal length\", \"Petal width\", \"Class\"])\n",
    "print(df)"
   ]
  },
  {
   "cell_type": "markdown",
   "metadata": {},
   "source": [
    "<b> Q-2:  Sample the dataset with and without replacement (20%data)"
   ]
  },
  {
   "cell_type": "code",
   "execution_count": 67,
   "metadata": {},
   "outputs": [
    {
     "name": "stdout",
     "output_type": "stream",
     "text": [
      "     Sepal length  Sepal width  Petal length  Petal width            Class\n",
      "59            5.2          2.7           3.9          1.4  Iris-versicolor\n",
      "19            5.1          3.8           1.5          0.3      Iris-setosa\n",
      "87            6.3          2.3           4.4          1.3  Iris-versicolor\n",
      "36            5.5          3.5           1.3          0.2      Iris-setosa\n",
      "94            5.6          2.7           4.2          1.3  Iris-versicolor\n",
      "96            5.7          2.9           4.2          1.3  Iris-versicolor\n",
      "43            5.0          3.5           1.6          0.6      Iris-setosa\n",
      "124           6.7          3.3           5.7          2.1   Iris-virginica\n",
      "148           6.2          3.4           5.4          2.3   Iris-virginica\n",
      "65            6.7          3.1           4.4          1.4  Iris-versicolor\n",
      "22            4.6          3.6           1.0          0.2      Iris-setosa\n",
      "29            4.7          3.2           1.6          0.2      Iris-setosa\n",
      "64            5.6         17.0           3.6          1.3  Iris-versicolor\n",
      "44            5.1          3.8           1.9          0.4      Iris-setosa\n",
      "49            5.0          3.3           1.4          0.2      Iris-setosa\n",
      "136           6.3          3.4           5.6          2.4   Iris-virginica\n",
      "41            4.5          2.3           1.3          0.3      Iris-setosa\n",
      "48            5.3          3.7           1.5          0.2      Iris-setosa\n",
      "82            NaN          2.7           3.9          1.2              NaN\n",
      "86            6.7          3.1           4.7          1.5  Iris-versicolor\n",
      "56            6.3          3.3           4.7          1.6  Iris-versicolor\n",
      "103           6.3          2.9           5.6          1.8   Iris-virginica\n",
      "63            6.1          2.9           4.7          1.4  Iris-versicolor\n",
      "142           5.8          2.7           5.1          1.9   Iris-virginica\n",
      "113           5.7          2.5           5.0          2.0   Iris-virginica\n",
      "92            5.8          2.6           4.0          1.2  Iris-versicolor\n",
      "4             5.0          3.6           1.4          0.2      Iris-setosa\n",
      "60            5.0          2.0           3.5          1.0  Iris-versicolor\n",
      "45            4.8          3.0           1.4          0.3              NaN\n",
      "138           6.0          3.0           4.8          1.8   Iris-virginica\n",
      "     Sepal length  Sepal width  Petal length  Petal width            Class\n",
      "136           6.3          3.4           5.6          2.4   Iris-virginica\n",
      "25            5.0          3.0           1.6          0.2      Iris-setosa\n",
      "106           4.9          2.5           4.5          1.7   Iris-virginica\n",
      "79            5.7          2.6           3.5          1.0  Iris-versicolor\n",
      "64            5.6         17.0           3.6          1.3  Iris-versicolor\n",
      "34            4.9          3.1           1.5          0.1      Iris-setosa\n",
      "24            4.8          3.4           1.9          0.2      Iris-setosa\n",
      "4             5.0          3.6           1.4          0.2      Iris-setosa\n",
      "92            5.8          2.6           4.0          1.2  Iris-versicolor\n",
      "45            4.8          3.0           1.4          0.3              NaN\n",
      "31            5.4          3.4           1.5          0.4      Iris-setosa\n",
      "96            5.7          2.9           4.2          1.3  Iris-versicolor\n",
      "6             4.6          3.4           1.4          0.3      Iris-setosa\n",
      "107           7.3          2.9           6.3          1.8   Iris-virginica\n",
      "70            5.9          3.2           4.8          1.8  Iris-versicolor\n",
      "30           15.0          3.1           1.6          0.2      Iris-setosa\n",
      "110           6.5          3.2           5.1          2.0   Iris-virginica\n",
      "125           NaN          3.2           6.0          1.8   Iris-virginica\n",
      "115           6.4          3.2           5.3          2.3   Iris-virginica\n",
      "21            5.1          3.7           NaN          0.4      Iris-setosa\n",
      "48            5.3          3.7           1.5          0.2      Iris-setosa\n",
      "3             4.6          3.1           1.5          0.2      Iris-setosa\n",
      "12            4.8          3.0           1.4          0.1      Iris-setosa\n",
      "76            6.8          2.8           4.8          1.4  Iris-versicolor\n",
      "83            6.0          2.7           5.1          1.6  Iris-versicolor\n",
      "138           6.0          3.0           4.8          1.8   Iris-virginica\n",
      "70            5.9          3.2           4.8          1.8  Iris-versicolor\n",
      "86            6.7          3.1           4.7          1.5  Iris-versicolor\n",
      "70            5.9          3.2           4.8          1.8  Iris-versicolor\n",
      "116           6.5          3.0           5.5          1.8   Iris-virginica\n"
     ]
    }
   ],
   "source": [
    "#solution to q-2\n",
    "# sampling with no replacement\n",
    "sample_no_replace = df.sample(frac = 0.2)\n",
    "print(sample_no_replace)\n",
    "# sampling with replacement\n",
    "sample_replace = df.sample(frac = 0.2, replace = True)\n",
    "print(sample_replace)"
   ]
  },
  {
   "cell_type": "markdown",
   "metadata": {},
   "source": [
    "<b>Q-3:Normalize the dataset using z-score normalization"
   ]
  },
  {
   "cell_type": "code",
   "execution_count": 68,
   "metadata": {},
   "outputs": [
    {
     "name": "stdout",
     "output_type": "stream",
     "text": [
      "     Sepal length  Sepal width  Petal length  Petal width           Class\n",
      "0       -0.724647     0.294610     -1.337992    -1.298154     Iris-setosa\n",
      "1       -0.903828    -0.113183     -1.337992    -1.298154     Iris-setosa\n",
      "2       -1.083009     0.049934     -1.392902    -1.298154     Iris-setosa\n",
      "3       -1.172599    -0.031625     -1.283083    -1.298154     Iris-setosa\n",
      "4       -0.814237     0.376169     -1.337992    -1.298154     Iris-setosa\n",
      "..            ...          ...           ...          ...             ...\n",
      "145      0.708801    -0.113183      0.748559     1.435357  Iris-virginica\n",
      "146      0.350439    -0.520977      0.638740     0.914689  Iris-virginica\n",
      "147      0.529620    -0.113183      0.748559     1.044856  Iris-virginica\n",
      "148      0.260848     0.213051      0.858377     1.435357  Iris-virginica\n",
      "149     -0.007923          NaN      0.693649     0.784521  Iris-virginica\n",
      "\n",
      "[150 rows x 5 columns]\n"
     ]
    }
   ],
   "source": [
    "#solution to q-3\n",
    "# znorm will hold the z-score normalized dataframe\n",
    "znorm = df.copy()\n",
    "znorm.iloc[:,0:-1] = znorm.iloc[:,0:-1].apply(lambda x: (x - x.mean()) / x.std(), axis = 0)\n",
    "print(znorm)"
   ]
  },
  {
   "cell_type": "markdown",
   "metadata": {},
   "source": [
    "<b>Q-4:Find the outliers using z-score normalization"
   ]
  },
  {
   "cell_type": "code",
   "execution_count": 58,
   "metadata": {},
   "outputs": [
    {
     "name": "stdout",
     "output_type": "stream",
     "text": [
      "    Sepal length  Sepal width  Petal length  Petal width            Class\n",
      "7      -0.814237     0.213051      3.384202    -1.298154      Iris-setosa\n",
      "30      8.144811    -0.031625     -1.228174    -1.298154      Iris-setosa\n",
      "64     -0.276694    11.305029     -0.129989     0.133685  Iris-versicolor\n"
     ]
    }
   ],
   "source": [
    "#solution to q-4\n",
    "zmax = 3 # threshold z-score for outlier\n",
    "print(znorm[(znorm[\"Sepal length\"] > zmax) | (znorm[\"Sepal width\"] > zmax) |\n",
    "     (znorm[\"Petal length\"] > zmax) | (znorm[\"Petal width\"] > zmax)])"
   ]
  },
  {
   "cell_type": "markdown",
   "metadata": {},
   "source": [
    "<b> Q-5: Normalize the dataset using min-max normalization"
   ]
  },
  {
   "cell_type": "code",
   "execution_count": 69,
   "metadata": {},
   "outputs": [
    {
     "name": "stdout",
     "output_type": "stream",
     "text": [
      "     Sepal length  Sepal width  Petal length  Petal width           Class\n",
      "0        0.074766     0.100000      0.044444     0.041667     Iris-setosa\n",
      "1        0.056075     0.066667      0.044444     0.041667     Iris-setosa\n",
      "2        0.037383     0.080000      0.033333     0.041667     Iris-setosa\n",
      "3        0.028037     0.073333      0.055556     0.041667     Iris-setosa\n",
      "4        0.065421     0.106667      0.044444     0.041667     Iris-setosa\n",
      "..            ...          ...           ...          ...             ...\n",
      "145      0.224299     0.066667      0.466667     0.916667  Iris-virginica\n",
      "146      0.186916     0.033333      0.444444     0.750000  Iris-virginica\n",
      "147      0.205607     0.066667      0.466667     0.791667  Iris-virginica\n",
      "148      0.177570     0.093333      0.488889     0.916667  Iris-virginica\n",
      "149      0.149533          NaN      0.455556     0.708333  Iris-virginica\n",
      "\n",
      "[150 rows x 5 columns]\n"
     ]
    }
   ],
   "source": [
    "#solution to q-5\n",
    "# mmnorm will hold the min-max normalized dataframe\n",
    "mmnorm = df.copy()\n",
    "mmnorm.iloc[:,0:-1] = mmnorm.iloc[:,0:-1].apply(lambda x: (x - x.min()) / (x.max() - x.min()), axis = 0)\n",
    "print(mmnorm)"
   ]
  },
  {
   "cell_type": "markdown",
   "metadata": {},
   "source": [
    "<b>Q-6:Write the code to discritize an attribute into 6 bins (third attribute)"
   ]
  },
  {
   "cell_type": "code",
   "execution_count": 70,
   "metadata": {},
   "outputs": [
    {
     "name": "stdout",
     "output_type": "stream",
     "text": [
      "     Sepal length  Sepal width  Petal length  Petal width           Class  \\\n",
      "0             5.1          3.5           1.4          0.2     Iris-setosa   \n",
      "1             4.9          3.0           1.4          0.2     Iris-setosa   \n",
      "2             4.7          3.2           1.3          0.2     Iris-setosa   \n",
      "3             4.6          3.1           1.5          0.2     Iris-setosa   \n",
      "4             5.0          3.6           1.4          0.2     Iris-setosa   \n",
      "..            ...          ...           ...          ...             ...   \n",
      "145           6.7          3.0           5.2          2.3  Iris-virginica   \n",
      "146           6.3          2.5           5.0          1.9  Iris-virginica   \n",
      "147           6.5          3.0           5.2          2.0  Iris-virginica   \n",
      "148           6.2          3.4           5.4          2.3  Iris-virginica   \n",
      "149           5.9          NaN           5.1          1.8  Iris-virginica   \n",
      "\n",
      "     Petal length bins  \n",
      "0                  0.0  \n",
      "1                  0.0  \n",
      "2                  0.0  \n",
      "3                  0.0  \n",
      "4                  0.0  \n",
      "..                 ...  \n",
      "145                2.0  \n",
      "146                2.0  \n",
      "147                2.0  \n",
      "148                2.0  \n",
      "149                2.0  \n",
      "\n",
      "[150 rows x 6 columns]\n"
     ]
    }
   ],
   "source": [
    "#solution to q-6\n",
    "# withbin will hold the dataframe with additional bin attribute\n",
    "# for the third attribute, that is, Petal length\n",
    "withbin = df.copy()\n",
    "withbin[\"Petal length bins\"] = pd.cut(withbin[\"Petal length\"], bins = 6, labels = False)\n",
    "print(withbin)"
   ]
  },
  {
   "cell_type": "markdown",
   "metadata": {},
   "source": [
    "<b> Q-7:Find the correlation coeffiecient"
   ]
  },
  {
   "cell_type": "code",
   "execution_count": 73,
   "metadata": {},
   "outputs": [
    {
     "name": "stdout",
     "output_type": "stream",
     "text": [
      "              Sepal length  Sepal width  Petal length  Petal width\n",
      "Sepal length      1.000000    -0.045723      0.516441     0.523542\n",
      "Sepal width      -0.045723     1.000000     -0.126879    -0.110301\n",
      "Petal length      0.516441    -0.126879      1.000000     0.886562\n",
      "Petal width       0.523542    -0.110301      0.886562     1.000000\n"
     ]
    }
   ],
   "source": [
    "#solution to q-7\n",
    "# pairwise correlation between attributes\n",
    "# with default correlation method\n",
    "print(df.corr())"
   ]
  }
 ],
 "metadata": {
  "kernelspec": {
   "display_name": "Python 3",
   "language": "python",
   "name": "python3"
  },
  "language_info": {
   "codemirror_mode": {
    "name": "ipython",
    "version": 3
   },
   "file_extension": ".py",
   "mimetype": "text/x-python",
   "name": "python",
   "nbconvert_exporter": "python",
   "pygments_lexer": "ipython3",
   "version": "3.8.5"
  }
 },
 "nbformat": 4,
 "nbformat_minor": 4
}
