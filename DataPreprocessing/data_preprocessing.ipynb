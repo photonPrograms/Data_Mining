{
 "cells": [
  {
   "cell_type": "markdown",
   "metadata": {},
   "source": [
    "Q-1:Read and show the properties of dataset \"iris_data_with_missing_values.csv\""
   ]
  },
  {
   "cell_type": "code",
   "execution_count": 163,
   "metadata": {},
   "outputs": [],
   "source": [
    "import numpy as np\n",
    "import pandas as pd\n",
    "import numbers"
   ]
  },
  {
   "cell_type": "code",
   "execution_count": 164,
   "metadata": {},
   "outputs": [
    {
     "name": "stdout",
     "output_type": "stream",
     "text": [
      "     Sepal length  Sepal width  Petal length  Petal width           Class\n",
      "0             5.1          3.5           1.4          0.2     Iris-setosa\n",
      "1             4.9          3.0           1.4          0.2     Iris-setosa\n",
      "2             4.7          3.2           1.3          0.2     Iris-setosa\n",
      "3             4.6          3.1           1.5          0.2     Iris-setosa\n",
      "4             5.0          3.6           1.4          0.2     Iris-setosa\n",
      "..            ...          ...           ...          ...             ...\n",
      "145           6.7          3.0           5.2          2.3  Iris-virginica\n",
      "146           6.3          2.5           5.0          1.9  Iris-virginica\n",
      "147           6.5          3.0           5.2          2.0  Iris-virginica\n",
      "148           6.2          3.4           5.4          2.3  Iris-virginica\n",
      "149           5.9          NaN           5.1          1.8  Iris-virginica\n",
      "\n",
      "[150 rows x 5 columns]\n"
     ]
    }
   ],
   "source": [
    "#Solution to Q-1\n",
    "df = pd.read_csv(\"iris_data_with_missing_values.csv\",\n",
    "                   header = None,\n",
    "                   names = [\"Sepal length\", \"Sepal width\", \"Petal length\", \"Petal width\", \"Class\"])\n",
    "print(df)"
   ]
  },
  {
   "cell_type": "markdown",
   "metadata": {},
   "source": [
    "Q-2: Print first 20 rows of the dataset. "
   ]
  },
  {
   "cell_type": "code",
   "execution_count": 165,
   "metadata": {},
   "outputs": [
    {
     "name": "stdout",
     "output_type": "stream",
     "text": [
      "    Sepal length  Sepal width  Petal length  Petal width        Class\n",
      "0            5.1          3.5           1.4          0.2  Iris-setosa\n",
      "1            4.9          3.0           1.4          0.2  Iris-setosa\n",
      "2            4.7          3.2           1.3          0.2  Iris-setosa\n",
      "3            4.6          3.1           1.5          0.2  Iris-setosa\n",
      "4            5.0          3.6           1.4          0.2  Iris-setosa\n",
      "5            5.4          3.9           1.7          0.4  Iris-setosa\n",
      "6            4.6          3.4           1.4          0.3  Iris-setosa\n",
      "7            5.0          3.4          10.0          0.2  Iris-setosa\n",
      "8            4.4          2.9           1.4          0.2  Iris-setosa\n",
      "9            4.9          3.1           1.5          0.1  Iris-setosa\n",
      "10           5.4          3.7           1.5          0.2  Iris-setosa\n",
      "11           4.8          3.4           1.6          0.2  Iris-setosa\n",
      "12           4.8          3.0           1.4          0.1  Iris-setosa\n",
      "13           4.3          3.0           1.1          0.1  Iris-setosa\n",
      "14           5.8          4.0           1.2          0.2  Iris-setosa\n",
      "15           5.7          NaN           1.5          0.4  Iris-setosa\n",
      "16           5.4          3.9           1.3          0.4  Iris-setosa\n",
      "17           5.1          3.5           1.4          0.3  Iris-setosa\n",
      "18           5.7          3.8           1.7          0.3  Iris-setosa\n",
      "19           5.1          3.8           1.5          0.3  Iris-setosa\n"
     ]
    }
   ],
   "source": [
    "#Solution to Q-2\n",
    "print(df.head(20))"
   ]
  },
  {
   "cell_type": "markdown",
   "metadata": {},
   "source": [
    "Q-3: Find the number of zeros in all the columns. "
   ]
  },
  {
   "cell_type": "code",
   "execution_count": 166,
   "metadata": {},
   "outputs": [
    {
     "name": "stdout",
     "output_type": "stream",
     "text": [
      "0\n"
     ]
    }
   ],
   "source": [
    "#Solution to Q-3\n",
    "arr = df.to_numpy()\n",
    "\n",
    "# by zeros, I am assuming actual numeric zeros\n",
    "# total number of elements - number of non-zero elements\n",
    "# gives number of zero elements\n",
    "print(arr.size - np.count_nonzero(arr))"
   ]
  },
  {
   "cell_type": "markdown",
   "metadata": {},
   "source": [
    "Q-4: Find the number of null values in the dataset. "
   ]
  },
  {
   "cell_type": "code",
   "execution_count": 167,
   "metadata": {},
   "outputs": [
    {
     "name": "stdout",
     "output_type": "stream",
     "text": [
      "Sepal length    3\n",
      "Sepal width     3\n",
      "Petal length    3\n",
      "Petal width     2\n",
      "Class           3\n",
      "dtype: int64\n",
      "14\n"
     ]
    }
   ],
   "source": [
    "#Solution to Q-4\n",
    "# column wise count of null values\n",
    "print(df.isnull().sum())\n",
    "\n",
    "# total count of null values\n",
    "print(df.isnull().sum().sum())"
   ]
  },
  {
   "cell_type": "markdown",
   "metadata": {},
   "source": [
    "Q-5: Replace the zeros with NAN values in selected attribute (say attribute 1 and 3)"
   ]
  },
  {
   "cell_type": "code",
   "execution_count": 168,
   "metadata": {},
   "outputs": [],
   "source": [
    "#Solution to Q-5\n",
    "# attribute 1: sepal length\n",
    "df[\"Sepal length\"] = df[\"Sepal length\"].replace(0, np.nan)\n",
    "\n",
    "# attribute 3: petal length\n",
    "df[\"Petal length\"] = df[\"Petal length\"].replace(0, np.nan)"
   ]
  },
  {
   "cell_type": "markdown",
   "metadata": {},
   "source": [
    " Q-6: Find the number of rows having missing values."
   ]
  },
  {
   "cell_type": "code",
   "execution_count": 169,
   "metadata": {},
   "outputs": [
    {
     "name": "stdout",
     "output_type": "stream",
     "text": [
      "13\n"
     ]
    }
   ],
   "source": [
    "#Solution to Q-6\n",
    "count = 0\n",
    "for i in range(len(df)):\n",
    "    if df.loc[i, :].isnull().sum() > 0:\n",
    "        count += 1\n",
    "print(count)"
   ]
  },
  {
   "cell_type": "markdown",
   "metadata": {},
   "source": [
    "Q-7: Discard the records with the missing values."
   ]
  },
  {
   "cell_type": "code",
   "execution_count": 170,
   "metadata": {},
   "outputs": [],
   "source": [
    "#Solution to Q-7\n",
    "\n",
    "# I am creating a new dataframe\n",
    "# to avoid deletion of rows in original dataframe\n",
    "dfDrop = df\n",
    "dfDrop = dfDrop.dropna()"
   ]
  },
  {
   "cell_type": "markdown",
   "metadata": {},
   "source": [
    " Q-8: Find the number of records after discarding null values."
   ]
  },
  {
   "cell_type": "code",
   "execution_count": 171,
   "metadata": {},
   "outputs": [
    {
     "name": "stdout",
     "output_type": "stream",
     "text": [
      "137\n"
     ]
    }
   ],
   "source": [
    "#Solution to Q-8\n",
    "print(len(dfDrop))"
   ]
  },
  {
   "cell_type": "markdown",
   "metadata": {},
   "source": [
    "Q-9: Replace the missing value with the mean/median/mode as applicable. "
   ]
  },
  {
   "cell_type": "code",
   "execution_count": 172,
   "metadata": {},
   "outputs": [],
   "source": [
    "#Solution to Q-9\n",
    "\n",
    "# for replacement of numeric values with mean\n",
    "dfMean = df\n",
    "dfMean = dfMean.fillna(dfMean.mean())\n",
    "dfMean = dfMean.dropna() # to drop records with missing categorical value\n",
    "\n",
    "# for replacement of numeric values with median\n",
    "dfMedian = df\n",
    "dfMedian = dfMedian.fillna(dfMedian.median())\n",
    "dfMedian = dfMedian.dropna() # to drop records with missing categorical value\n",
    "\n",
    "# for replacement of numeric values with mode\n",
    "# mode value should NOT be used in this case\n",
    "# because NaN is the mode for several fields\n",
    "dfMode = df\n",
    "dfMode = dfMode.fillna(dfMode.mode())\n",
    "dfMode = dfMode.dropna() # to drop records with missing categorical value"
   ]
  }
 ],
 "metadata": {
  "kernelspec": {
   "display_name": "Python 3",
   "language": "python",
   "name": "python3"
  },
  "language_info": {
   "codemirror_mode": {
    "name": "ipython",
    "version": 3
   },
   "file_extension": ".py",
   "mimetype": "text/x-python",
   "name": "python",
   "nbconvert_exporter": "python",
   "pygments_lexer": "ipython3",
   "version": "3.8.5"
  }
 },
 "nbformat": 4,
 "nbformat_minor": 4
}
