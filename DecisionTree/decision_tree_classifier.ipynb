{
 "cells": [
  {
   "cell_type": "markdown",
   "metadata": {
    "id": "fIFAhoXwpU3l"
   },
   "source": [
    "# Decision Trees in Python"
   ]
  },
  {
   "cell_type": "markdown",
   "metadata": {
    "id": "nm2kQEzcpU3w"
   },
   "source": [
    "### Import Libraries"
   ]
  },
  {
   "cell_type": "code",
   "execution_count": 5,
   "metadata": {
    "id": "cbqwkQoapU3x"
   },
   "outputs": [],
   "source": [
    "import pandas as pd"
   ]
  },
  {
   "cell_type": "markdown",
   "metadata": {
    "id": "vTg1TE0OpU3y"
   },
   "source": [
    "### Get The Data. Load data \"spambase_data.csv\" (balanced dataset i.e. equal no. of spam and non spam classes.)"
   ]
  },
  {
   "cell_type": "code",
   "execution_count": 6,
   "metadata": {
    "id": "RbHUmontpU3z",
    "outputId": "df29800b-5cfd-49d9-cfc9-165baacdc53b"
   },
   "outputs": [
    {
     "data": {
      "text/html": [
       "<div>\n",
       "<style scoped>\n",
       "    .dataframe tbody tr th:only-of-type {\n",
       "        vertical-align: middle;\n",
       "    }\n",
       "\n",
       "    .dataframe tbody tr th {\n",
       "        vertical-align: top;\n",
       "    }\n",
       "\n",
       "    .dataframe thead th {\n",
       "        text-align: right;\n",
       "    }\n",
       "</style>\n",
       "<table border=\"1\" class=\"dataframe\">\n",
       "  <thead>\n",
       "    <tr style=\"text-align: right;\">\n",
       "      <th></th>\n",
       "      <th>0</th>\n",
       "      <th>1</th>\n",
       "      <th>2</th>\n",
       "      <th>3</th>\n",
       "      <th>4</th>\n",
       "      <th>5</th>\n",
       "      <th>6</th>\n",
       "      <th>7</th>\n",
       "      <th>8</th>\n",
       "      <th>9</th>\n",
       "      <th>...</th>\n",
       "      <th>48</th>\n",
       "      <th>49</th>\n",
       "      <th>50</th>\n",
       "      <th>51</th>\n",
       "      <th>52</th>\n",
       "      <th>53</th>\n",
       "      <th>54</th>\n",
       "      <th>55</th>\n",
       "      <th>56</th>\n",
       "      <th>57</th>\n",
       "    </tr>\n",
       "  </thead>\n",
       "  <tbody>\n",
       "    <tr>\n",
       "      <th>0</th>\n",
       "      <td>0.00</td>\n",
       "      <td>0.64</td>\n",
       "      <td>0.64</td>\n",
       "      <td>0.0</td>\n",
       "      <td>0.32</td>\n",
       "      <td>0.00</td>\n",
       "      <td>0.00</td>\n",
       "      <td>0.00</td>\n",
       "      <td>0.00</td>\n",
       "      <td>0.00</td>\n",
       "      <td>...</td>\n",
       "      <td>0.00</td>\n",
       "      <td>0.000</td>\n",
       "      <td>0.0</td>\n",
       "      <td>0.778</td>\n",
       "      <td>0.000</td>\n",
       "      <td>0.000</td>\n",
       "      <td>3.756</td>\n",
       "      <td>61</td>\n",
       "      <td>278</td>\n",
       "      <td>1</td>\n",
       "    </tr>\n",
       "    <tr>\n",
       "      <th>1</th>\n",
       "      <td>0.21</td>\n",
       "      <td>0.28</td>\n",
       "      <td>0.50</td>\n",
       "      <td>0.0</td>\n",
       "      <td>0.14</td>\n",
       "      <td>0.28</td>\n",
       "      <td>0.21</td>\n",
       "      <td>0.07</td>\n",
       "      <td>0.00</td>\n",
       "      <td>0.94</td>\n",
       "      <td>...</td>\n",
       "      <td>0.00</td>\n",
       "      <td>0.132</td>\n",
       "      <td>0.0</td>\n",
       "      <td>0.372</td>\n",
       "      <td>0.180</td>\n",
       "      <td>0.048</td>\n",
       "      <td>5.114</td>\n",
       "      <td>101</td>\n",
       "      <td>1028</td>\n",
       "      <td>1</td>\n",
       "    </tr>\n",
       "    <tr>\n",
       "      <th>2</th>\n",
       "      <td>0.06</td>\n",
       "      <td>0.00</td>\n",
       "      <td>0.71</td>\n",
       "      <td>0.0</td>\n",
       "      <td>1.23</td>\n",
       "      <td>0.19</td>\n",
       "      <td>0.19</td>\n",
       "      <td>0.12</td>\n",
       "      <td>0.64</td>\n",
       "      <td>0.25</td>\n",
       "      <td>...</td>\n",
       "      <td>0.01</td>\n",
       "      <td>0.143</td>\n",
       "      <td>0.0</td>\n",
       "      <td>0.276</td>\n",
       "      <td>0.184</td>\n",
       "      <td>0.010</td>\n",
       "      <td>9.821</td>\n",
       "      <td>485</td>\n",
       "      <td>2259</td>\n",
       "      <td>1</td>\n",
       "    </tr>\n",
       "    <tr>\n",
       "      <th>3</th>\n",
       "      <td>0.00</td>\n",
       "      <td>0.00</td>\n",
       "      <td>0.00</td>\n",
       "      <td>0.0</td>\n",
       "      <td>0.63</td>\n",
       "      <td>0.00</td>\n",
       "      <td>0.31</td>\n",
       "      <td>0.63</td>\n",
       "      <td>0.31</td>\n",
       "      <td>0.63</td>\n",
       "      <td>...</td>\n",
       "      <td>0.00</td>\n",
       "      <td>0.137</td>\n",
       "      <td>0.0</td>\n",
       "      <td>0.137</td>\n",
       "      <td>0.000</td>\n",
       "      <td>0.000</td>\n",
       "      <td>3.537</td>\n",
       "      <td>40</td>\n",
       "      <td>191</td>\n",
       "      <td>1</td>\n",
       "    </tr>\n",
       "    <tr>\n",
       "      <th>4</th>\n",
       "      <td>0.00</td>\n",
       "      <td>0.00</td>\n",
       "      <td>0.00</td>\n",
       "      <td>0.0</td>\n",
       "      <td>0.63</td>\n",
       "      <td>0.00</td>\n",
       "      <td>0.31</td>\n",
       "      <td>0.63</td>\n",
       "      <td>0.31</td>\n",
       "      <td>0.63</td>\n",
       "      <td>...</td>\n",
       "      <td>0.00</td>\n",
       "      <td>0.135</td>\n",
       "      <td>0.0</td>\n",
       "      <td>0.135</td>\n",
       "      <td>0.000</td>\n",
       "      <td>0.000</td>\n",
       "      <td>3.537</td>\n",
       "      <td>40</td>\n",
       "      <td>191</td>\n",
       "      <td>1</td>\n",
       "    </tr>\n",
       "  </tbody>\n",
       "</table>\n",
       "<p>5 rows × 58 columns</p>\n",
       "</div>"
      ],
      "text/plain": [
       "     0     1     2    3     4     5     6     7     8     9   ...    48  \\\n",
       "0  0.00  0.64  0.64  0.0  0.32  0.00  0.00  0.00  0.00  0.00  ...  0.00   \n",
       "1  0.21  0.28  0.50  0.0  0.14  0.28  0.21  0.07  0.00  0.94  ...  0.00   \n",
       "2  0.06  0.00  0.71  0.0  1.23  0.19  0.19  0.12  0.64  0.25  ...  0.01   \n",
       "3  0.00  0.00  0.00  0.0  0.63  0.00  0.31  0.63  0.31  0.63  ...  0.00   \n",
       "4  0.00  0.00  0.00  0.0  0.63  0.00  0.31  0.63  0.31  0.63  ...  0.00   \n",
       "\n",
       "      49   50     51     52     53     54   55    56  57  \n",
       "0  0.000  0.0  0.778  0.000  0.000  3.756   61   278   1  \n",
       "1  0.132  0.0  0.372  0.180  0.048  5.114  101  1028   1  \n",
       "2  0.143  0.0  0.276  0.184  0.010  9.821  485  2259   1  \n",
       "3  0.137  0.0  0.137  0.000  0.000  3.537   40   191   1  \n",
       "4  0.135  0.0  0.135  0.000  0.000  3.537   40   191   1  \n",
       "\n",
       "[5 rows x 58 columns]"
      ]
     },
     "execution_count": 6,
     "metadata": {},
     "output_type": "execute_result"
    }
   ],
   "source": [
    "df = pd.read_csv('spambase_data.csv',header = None)\n",
    "df.head() # used to display top 5 rows"
   ]
  },
  {
   "cell_type": "markdown",
   "metadata": {
    "id": "j5i7YTvdpU31"
   },
   "source": [
    "### Train and Test Split"
   ]
  },
  {
   "cell_type": "code",
   "execution_count": 7,
   "metadata": {
    "id": "qfXxzqwSpU31"
   },
   "outputs": [],
   "source": [
    "from sklearn.model_selection import train_test_split"
   ]
  },
  {
   "cell_type": "code",
   "execution_count": 8,
   "metadata": {
    "id": "SO7jdG80pU32"
   },
   "outputs": [],
   "source": [
    "X = df[df.columns[:-1]]\n",
    "Y = df[len(df.columns)-1]"
   ]
  },
  {
   "cell_type": "markdown",
   "metadata": {
    "id": "ZbZy975CpU32"
   },
   "source": [
    "#### Obtain X_train, X_test, Y_train, Y_test by splitting the dataset into 70-30 ratio with a random state value 30.\n",
    "\n",
    "Note: random_state is used to control the shuffling in the split of the dataset."
   ]
  },
  {
   "cell_type": "code",
   "execution_count": 9,
   "metadata": {
    "id": "vllXspIipU33"
   },
   "outputs": [],
   "source": [
    "X_train, X_test, Y_train, Y_test = train_test_split(X, Y, test_size=0.30, random_state = 30)"
   ]
  },
  {
   "cell_type": "markdown",
   "metadata": {
    "id": "MCYVh3ASpU34"
   },
   "source": [
    "### Decision Trees"
   ]
  },
  {
   "cell_type": "code",
   "execution_count": 10,
   "metadata": {
    "id": "ebEDkSbPpU34"
   },
   "outputs": [],
   "source": [
    "from sklearn.tree import DecisionTreeClassifier"
   ]
  },
  {
   "cell_type": "code",
   "execution_count": 11,
   "metadata": {
    "id": "Dijz9FnxpU34"
   },
   "outputs": [
    {
     "data": {
      "text/plain": [
       "DecisionTreeClassifier()"
      ]
     },
     "execution_count": 11,
     "metadata": {},
     "output_type": "execute_result"
    }
   ],
   "source": [
    "dtree = DecisionTreeClassifier()\n",
    "dtree.fit(X_train,Y_train)"
   ]
  },
  {
   "cell_type": "markdown",
   "metadata": {
    "id": "TbIMAVINpU35"
   },
   "source": [
    "### Prediction and Evaluation"
   ]
  },
  {
   "cell_type": "code",
   "execution_count": 12,
   "metadata": {
    "id": "KkyRuv_jpU35"
   },
   "outputs": [],
   "source": [
    "from sklearn.metrics import classification_report,confusion_matrix\n",
    "from sklearn.metrics import accuracy_score"
   ]
  },
  {
   "cell_type": "code",
   "execution_count": 13,
   "metadata": {
    "id": "bVXrJlkgpU36"
   },
   "outputs": [],
   "source": [
    "predictions = dtree.predict(X_test)"
   ]
  },
  {
   "cell_type": "code",
   "execution_count": 14,
   "metadata": {
    "id": "YOhNv54hpU36"
   },
   "outputs": [
    {
     "name": "stdout",
     "output_type": "stream",
     "text": [
      "              precision    recall  f1-score   support\n",
      "\n",
      "           0       0.92      0.94      0.93       863\n",
      "           1       0.89      0.86      0.88       518\n",
      "\n",
      "    accuracy                           0.91      1381\n",
      "   macro avg       0.90      0.90      0.90      1381\n",
      "weighted avg       0.91      0.91      0.91      1381\n",
      "\n",
      "Confusion Matrix\n",
      "[[807  56]\n",
      " [ 71 447]]\n",
      "\n",
      " Accuracy\n",
      "0.9080376538740044\n"
     ]
    }
   ],
   "source": [
    "print(classification_report(Y_test,predictions))\n",
    "print(\"Confusion Matrix\")\n",
    "print(confusion_matrix(Y_test,predictions))\n",
    "print(\"\\n Accuracy\")\n",
    "print(accuracy_score(Y_test,predictions))"
   ]
  },
  {
   "cell_type": "markdown",
   "metadata": {
    "id": "kqu-lSzapU37"
   },
   "source": [
    "### Tree Visualization "
   ]
  },
  {
   "cell_type": "code",
   "execution_count": null,
   "metadata": {
    "id": "KJVYvM7opU37",
    "scrolled": false
   },
   "outputs": [],
   "source": [
    "import matplotlib.pyplot as plt\n",
    "from sklearn import tree\n",
    "fig, axes = plt.subplots(nrows = 1,ncols = 1,figsize = (16,16), dpi=1024)\n",
    "tree.plot_tree(dtree)\n",
    "# fig.savefig('decision_tree.png')"
   ]
  },
  {
   "cell_type": "markdown",
   "metadata": {
    "id": "z6MB0iZMpU37"
   },
   "source": [
    "#### Q1: Create a decision stump and find the majority class in the dataset"
   ]
  },
  {
   "cell_type": "code",
   "execution_count": 18,
   "metadata": {
    "id": "DcI3SHqApU38"
   },
   "outputs": [
    {
     "data": {
      "text/plain": [
       "[Text(167.4, 163.07999999999998, 'X[51] <= 0.083\\ngini = 0.481\\nsamples = 3220\\nvalue = [1925, 1295]'),\n",
       " Text(83.7, 54.360000000000014, 'gini = 0.263\\nsamples = 1833\\nvalue = [1548, 285]'),\n",
       " Text(251.10000000000002, 54.360000000000014, 'gini = 0.396\\nsamples = 1387\\nvalue = [377, 1010]')]"
      ]
     },
     "execution_count": 18,
     "metadata": {},
     "output_type": "execute_result"
    },
    {
     "data": {
      "image/png": "[encoded data removed]",
      "text/plain": [
       "<Figure size 432x288 with 1 Axes>"
      ]
     },
     "metadata": {
      "needs_background": "light"
     },
     "output_type": "display_data"
    }
   ],
   "source": [
    "#### Code here ####\n",
    "dtree = DecisionTreeClassifier(max_depth = 1)\n",
    "dtree.fit(X_train,Y_train)\n",
    "tree.plot_tree(dtree)"
   ]
  },
  {
   "cell_type": "code",
   "execution_count": 19,
   "metadata": {
    "id": "5oEK6UczpU38"
   },
   "outputs": [],
   "source": [
    "#### Majority class ####\n",
    "# X[51] <= 0.083"
   ]
  },
  {
   "cell_type": "markdown",
   "metadata": {
    "id": "qZRrYtPxpU39"
   },
   "source": [
    "#### Q2: Implement the decision tree classifier using entropy to measure the quality of split and random state value as 30. \n",
    "Note: The features are always randomly permuted at each split, the best found split may vary across different runs. To obtain a deterministic behaviour during fitting, random state has to be fixed to an integer."
   ]
  },
  {
   "cell_type": "code",
   "execution_count": 20,
   "metadata": {
    "id": "lvWUpvaypU39"
   },
   "outputs": [
    {
     "name": "stdout",
     "output_type": "stream",
     "text": [
      "              precision    recall  f1-score   support\n",
      "\n",
      "           0       0.92      0.94      0.93       863\n",
      "           1       0.90      0.86      0.88       518\n",
      "\n",
      "    accuracy                           0.91      1381\n",
      "   macro avg       0.91      0.90      0.90      1381\n",
      "weighted avg       0.91      0.91      0.91      1381\n",
      "\n",
      "Confusion Matrix\n",
      "[[814  49]\n",
      " [ 75 443]]\n",
      "\n",
      " Accuracy\n",
      "0.9102099927588704\n"
     ]
    }
   ],
   "source": [
    "#### Code here ####\n",
    "dtree = DecisionTreeClassifier(criterion = \"entropy\", random_state = 30)\n",
    "dtree.fit(X_train,Y_train)\n",
    "predictions = dtree.predict(X_test)\n",
    "print(classification_report(Y_test,predictions))\n",
    "print(\"Confusion Matrix\")\n",
    "print(confusion_matrix(Y_test,predictions))\n",
    "print(\"\\n Accuracy\")\n",
    "print(accuracy_score(Y_test,predictions))"
   ]
  },
  {
   "cell_type": "markdown",
   "metadata": {
    "id": "9e7rh0bJpU39"
   },
   "source": [
    "#### Q3: Compare the two trees on the basis of their accuracy. Which tree gives better accuarcy (using gini index or entropy)."
   ]
  },
  {
   "cell_type": "code",
   "execution_count": 21,
   "metadata": {
    "id": "rQkNZI2IpU3-"
   },
   "outputs": [],
   "source": [
    "#### Write your answer here ####\n",
    "# entropy"
   ]
  },
  {
   "cell_type": "markdown",
   "metadata": {
    "id": "KPRYUhMTpU3-"
   },
   "source": []
  },
  {
   "cell_type": "markdown",
   "metadata": {
    "id": "dD54yX0OpU3_"
   },
   "source": [
    "#### Q4: Fully grown decision trees models usually overfits the data. To overcome the problem of overfitting, pruning techniques are used. One of which is restricting the height of the tree. Find the value of the height for which the decision tree model is giving the highest accuracy. (Use entropy measure)"
   ]
  },
  {
   "cell_type": "code",
   "execution_count": 24,
   "metadata": {
    "id": "mbqX8VuepU3_"
   },
   "outputs": [
    {
     "name": "stdout",
     "output_type": "stream",
     "text": [
      "18\n"
     ]
    }
   ],
   "source": [
    "#### Code here ####\n",
    "dtree = DecisionTreeClassifier(criterion = \"entropy\", random_state = 30)\n",
    "dtree.fit(X_train,Y_train)\n",
    "maxDepth = dtree.get_depth()\n",
    "depth = maxDepth\n",
    "acc = accuracy_score(Y_test, dtree.predict(X_test))\n",
    "for i in range(1, maxDepth):\n",
    "    dtree = DecisionTreeClassifier(criterion = \"entropy\", random_state = 30, max_depth = i)\n",
    "    dtree.fit(X_train, Y_train)\n",
    "    a = accuracy_score(Y_test, dtree.predict(X_test))\n",
    "    if acc < a:\n",
    "        acc = a\n",
    "        depth = dtree.get_depth()\n",
    "print(depth)"
   ]
  },
  {
   "cell_type": "markdown",
   "metadata": {
    "id": "Ul-yRryrpU3_"
   },
   "source": [
    "#### Q5: Find the feature importance from the trained model and rebuild the model using top 10 important features only. "
   ]
  },
  {
   "cell_type": "code",
   "execution_count": 33,
   "metadata": {
    "id": "xpqwzCq2pU3_"
   },
   "outputs": [],
   "source": [
    "#### Code here ####\n",
    "dtree = DecisionTreeClassifier(criterion = \"entropy\", random_state = 30)\n",
    "dtree.fit(X_train,Y_train)\n",
    "imp = dtree.feature_importances_"
   ]
  },
  {
   "cell_type": "code",
   "execution_count": 52,
   "metadata": {},
   "outputs": [
    {
     "name": "stdout",
     "output_type": "stream",
     "text": [
      "[51, 55, 6, 24, 52, 15, 54, 18, 26, 4]\n"
     ]
    }
   ],
   "source": [
    "features, indices = [], []\n",
    "for i, v in enumerate(imp):\n",
    "    features.append((i,v))\n",
    "features = sorted(features, key = lambda tup: tup[1], reverse = True)[0:10]\n",
    "for i, v in features:\n",
    "    indices.append(i)\n",
    "print(indices)"
   ]
  },
  {
   "cell_type": "code",
   "execution_count": 69,
   "metadata": {},
   "outputs": [
    {
     "name": "stdout",
     "output_type": "stream",
     "text": [
      "              precision    recall  f1-score   support\n",
      "\n",
      "           0       0.88      0.92      0.90       863\n",
      "           1       0.86      0.80      0.83       518\n",
      "\n",
      "    accuracy                           0.87      1381\n",
      "   macro avg       0.87      0.86      0.86      1381\n",
      "weighted avg       0.87      0.87      0.87      1381\n",
      "\n",
      "Confusion Matrix\n",
      "[[793  70]\n",
      " [104 414]]\n",
      "\n",
      " Accuracy\n",
      "0.8740043446777698\n"
     ]
    }
   ],
   "source": [
    "X_new = X[[i for i in indices]]\n",
    "X_train, X_test, Y_train, Y_test = train_test_split(X_new, Y, test_size=0.30, random_state = 30)\n",
    "dtree = DecisionTreeClassifier(criterion = \"entropy\", random_state = 30)\n",
    "dtree.fit(X_train,Y_train)\n",
    "predictions = dtree.predict(X_test)\n",
    "print(classification_report(Y_test,predictions))\n",
    "print(\"Confusion Matrix\")\n",
    "print(confusion_matrix(Y_test,predictions))\n",
    "print(\"\\n Accuracy\")\n",
    "print(accuracy_score(Y_test,predictions))"
   ]
  },
  {
   "cell_type": "markdown",
   "metadata": {
    "id": "q7w6usQopU3_"
   },
   "source": [
    "#### Q6: Is there any information loss in the tree created above"
   ]
  },
  {
   "cell_type": "code",
   "execution_count": 70,
   "metadata": {
    "id": "AKgZXBz-pU3_"
   },
   "outputs": [],
   "source": [
    "#### Write your answer here ####\n",
    "# yes a bit"
   ]
  },
  {
   "cell_type": "markdown",
   "metadata": {
    "id": "-fRSWCiHpU3_"
   },
   "source": [
    "#### Q7: Create 5 different random vectors of size 10 each to select the attributes from the dataset. Create 5 decision trees using the selected set of attributes in each case and calculate their accuracy."
   ]
  },
  {
   "cell_type": "code",
   "execution_count": 1,
   "metadata": {
    "id": "xJoOuv5TpU4A"
   },
   "outputs": [],
   "source": [
    "#### Code here ####\n",
    "#import random\n",
    "#for j in range(5):\n",
    "#    indices = random.sample([i for i in range(len(X.columns))],10)\n",
    "#    print(indices)\n",
    "#    X_new = X[[i for i in indices]]\n",
    "#    X_train, X_test, Y_train, Y_test = train_test_split(X_new, Y, test_size=0.30, random_state = 30)\n",
    "#    dtree = DecisionTreeClassifier(criterion = \"entropy\", random_state = 30)\n",
    "#    dtree.fit(X_train,Y_train)\n",
    "#    predictions = dtree.predict(X_test)\n",
    "#    print(classification_report(Y_test,predictions))\n",
    "#    print(\"Confusion Matrix\")\n",
    "#    print(confusion_matrix(Y_test,predictions))\n",
    "#    print(\"\\n Accuracy\")\n",
    "#    print(accuracy_score(Y_test,predictions))"
   ]
  },
  {
   "cell_type": "markdown",
   "metadata": {
    "id": "e_rPvstqpU4A"
   },
   "source": [
    "#### Q8: Is there any decision tree you will discard and why?"
   ]
  },
  {
   "cell_type": "code",
   "execution_count": 72,
   "metadata": {
    "id": "88AhNidGpU4A"
   },
   "outputs": [],
   "source": [
    "#### Write your answer here ####\n",
    "# fifth one"
   ]
  },
  {
   "cell_type": "markdown",
   "metadata": {
    "id": "C9yQ3XdSpU4A"
   },
   "source": [
    "#### Q9: Load data \"spambase_data_2.csv\". Create a decision tree using entropy. Perform its evaluation. (unbalanced dataset i.e. equal no. of spam and non spam classes.)"
   ]
  },
  {
   "cell_type": "code",
   "execution_count": 74,
   "metadata": {
    "id": "qRCM2JyspU4A"
   },
   "outputs": [
    {
     "name": "stdout",
     "output_type": "stream",
     "text": [
      "              precision    recall  f1-score   support\n",
      "\n",
      "           0       0.86      0.87      0.87      1083\n",
      "           1       0.51      0.49      0.50       298\n",
      "\n",
      "    accuracy                           0.79      1381\n",
      "   macro avg       0.69      0.68      0.68      1381\n",
      "weighted avg       0.79      0.79      0.79      1381\n",
      "\n",
      "Confusion Matrix\n",
      "[[944 139]\n",
      " [152 146]]\n",
      "\n",
      " Accuracy\n",
      "0.7892831281679942\n"
     ]
    }
   ],
   "source": [
    "#### Code here ####\n",
    "df = pd.read_csv('spambase_data_2.csv',header = None)\n",
    "X = df[df.columns[:-1]]\n",
    "Y = df[len(df.columns)-1]\n",
    "X_train, X_test, Y_train, Y_test = train_test_split(X_new, Y, test_size=0.30, random_state = 30)\n",
    "dtree = DecisionTreeClassifier(criterion = \"entropy\", random_state = 30)\n",
    "dtree.fit(X_train,Y_train)\n",
    "predictions = dtree.predict(X_test)\n",
    "print(classification_report(Y_test,predictions))\n",
    "print(\"Confusion Matrix\")\n",
    "print(confusion_matrix(Y_test,predictions))\n",
    "print(\"\\n Accuracy\")\n",
    "print(accuracy_score(Y_test,predictions))"
   ]
  },
  {
   "cell_type": "markdown",
   "metadata": {
    "id": "qFx1u9vFpU4A"
   },
   "source": [
    "#### Q10. Perform pre- pruning by restricting the height of tree and find the height at which you get highest accuracy."
   ]
  },
  {
   "cell_type": "code",
   "execution_count": 82,
   "metadata": {
    "id": "EVQGHIyTpU4B"
   },
   "outputs": [
    {
     "name": "stdout",
     "output_type": "stream",
     "text": [
      "24 0.7871107892831282\n"
     ]
    }
   ],
   "source": [
    "#### Code here ####\n",
    "dtree = DecisionTreeClassifier(criterion = \"entropy\", random_state = 30)\n",
    "dtree.fit(X_train,Y_train)\n",
    "maxDepth = dtree.get_depth()\n",
    "depth = maxDepth\n",
    "acc = accuracy_score(Y_test, dtree.predict(X_test))\n",
    "for i in range(1, maxDepth):\n",
    "    dtree = DecisionTreeClassifier(criterion = \"entropy\", random_state = 30, max_depth = i)\n",
    "    dtree.fit(X_train, Y_train)\n",
    "    a = accuracy_score(Y_test, dtree.predict(X_test))\n",
    "    if acc < a:\n",
    "        acc = a\n",
    "        depth = dtree.get_depth()\n",
    "print(depth, a)"
   ]
  },
  {
   "cell_type": "markdown",
   "metadata": {
    "id": "Ggwdm-5_pU4B"
   },
   "source": [
    "#### Q11: Is there any difference between precision and accuracy you get in Q4 and Q10."
   ]
  },
  {
   "cell_type": "code",
   "execution_count": 83,
   "metadata": {
    "id": "e7EM11lCpU4B"
   },
   "outputs": [],
   "source": [
    "#### Write your answer here ####\n",
    "# question 10 lesser"
   ]
  },
  {
   "cell_type": "code",
   "execution_count": null,
   "metadata": {},
   "outputs": [],
   "source": []
  }
 ],
 "metadata": {
  "colab": {
   "name": "Decision tree python.ipynb",
   "provenance": []
  },
  "kernelspec": {
   "display_name": "Python 3",
   "language": "python",
   "name": "python3"
  },
  "language_info": {
   "codemirror_mode": {
    "name": "ipython",
    "version": 3
   },
   "file_extension": ".py",
   "mimetype": "text/x-python",
   "name": "python",
   "nbconvert_exporter": "python",
   "pygments_lexer": "ipython3",
   "version": "3.8.5"
  }
 },
 "nbformat": 4,
 "nbformat_minor": 1
}
